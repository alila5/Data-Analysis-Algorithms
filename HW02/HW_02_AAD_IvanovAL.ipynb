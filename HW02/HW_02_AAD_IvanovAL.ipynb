{
 "cells": [
  {
   "cell_type": "code",
   "execution_count": 1,
   "metadata": {
    "colab": {},
    "colab_type": "code",
    "id": "_u5bV-OlT34p"
   },
   "outputs": [],
   "source": [
    "import numpy as np\n",
    "import matplotlib.pyplot as plt"
   ]
  },
  {
   "cell_type": "code",
   "execution_count": 2,
   "metadata": {
    "colab": {},
    "colab_type": "code",
    "id": "_n6il-AZaLuA"
   },
   "outputs": [],
   "source": [
    "# К признаку стажа добавим признаки: средняя  стоимость занятия,\n",
    "# квалификация репетитора\n",
    "X = np.array([[1, 1, 1, 1, 1, 1, 1, 1, 1, 1],\n",
    "              [1, 1, 2, 1, 3, 0, 5, 10, 1, 2],\n",
    "              [500, 700, 750, 600, 1450,\n",
    "               800, 1500, 2000, 450, 1000],\n",
    "              [1, 1, 2, 1, 2, \n",
    "               1, 3, 3, 1, 2]])"
   ]
  },
  {
   "cell_type": "code",
   "execution_count": 3,
   "metadata": {
    "colab": {},
    "colab_type": "code",
    "id": "x8yoci01ni-t"
   },
   "outputs": [],
   "source": [
    "y = [45, 55, 50, 59, 65,\n",
    "    35, 75, 80, 50, 60]"
   ]
  },
  {
   "cell_type": "code",
   "execution_count": 4,
   "metadata": {
    "colab": {
     "base_uri": "https://localhost:8080/",
     "height": 34
    },
    "colab_type": "code",
    "id": "Ei5qeZO_aT6m",
    "outputId": "fa5f34f5-dda6-4654-eceb-8fa6877723dc"
   },
   "outputs": [
    {
     "data": {
      "text/plain": [
       "(0, 10)"
      ]
     },
     "execution_count": 4,
     "metadata": {},
     "output_type": "execute_result"
    }
   ],
   "source": [
    "# Нормализация [0, 1]\n",
    "X[1].min(), X[1].max()"
   ]
  },
  {
   "cell_type": "code",
   "execution_count": 5,
   "metadata": {
    "colab": {
     "base_uri": "https://localhost:8080/",
     "height": 34
    },
    "colab_type": "code",
    "id": "L7wsW1Q7b4Ts",
    "outputId": "3e75a3c2-eb7b-4513-af0a-0fe07b58890a"
   },
   "outputs": [
    {
     "data": {
      "text/plain": [
       "(450, 2000)"
      ]
     },
     "execution_count": 5,
     "metadata": {},
     "output_type": "execute_result"
    }
   ],
   "source": [
    "X[2].min(), X[2].max()"
   ]
  },
  {
   "cell_type": "code",
   "execution_count": 6,
   "metadata": {
    "colab": {
     "base_uri": "https://localhost:8080/",
     "height": 155
    },
    "colab_type": "code",
    "id": "E55S9Bzob9Xa",
    "outputId": "640d733b-404c-49cc-9763-6c8cf156c30e"
   },
   "outputs": [
    {
     "data": {
      "text/plain": [
       "array([[1.00e+00, 1.00e+00, 1.00e+00, 1.00e+00, 1.00e+00, 1.00e+00,\n",
       "        1.00e+00, 1.00e+00, 1.00e+00, 1.00e+00],\n",
       "       [1.00e+00, 1.00e+00, 2.00e+00, 1.00e+00, 3.00e+00, 0.00e+00,\n",
       "        5.00e+00, 1.00e+01, 1.00e+00, 2.00e+00],\n",
       "       [5.00e+02, 7.00e+02, 7.50e+02, 6.00e+02, 1.45e+03, 8.00e+02,\n",
       "        1.50e+03, 2.00e+03, 4.50e+02, 1.00e+03],\n",
       "       [1.00e+00, 1.00e+00, 2.00e+00, 1.00e+00, 2.00e+00, 1.00e+00,\n",
       "        3.00e+00, 3.00e+00, 1.00e+00, 2.00e+00]])"
      ]
     },
     "execution_count": 6,
     "metadata": {},
     "output_type": "execute_result"
    }
   ],
   "source": [
    "X_norm = X.copy()\n",
    "X_norm = X_norm.astype(np.float64)\n",
    "X_norm"
   ]
  },
  {
   "cell_type": "code",
   "execution_count": 7,
   "metadata": {
    "colab": {
     "base_uri": "https://localhost:8080/",
     "height": 155
    },
    "colab_type": "code",
    "id": "7x-6IuPOcIo0",
    "outputId": "358cc945-0d0b-43c4-eb84-91b902fab2d9"
   },
   "outputs": [
    {
     "data": {
      "text/plain": [
       "array([[1.00e+00, 1.00e+00, 1.00e+00, 1.00e+00, 1.00e+00, 1.00e+00,\n",
       "        1.00e+00, 1.00e+00, 1.00e+00, 1.00e+00],\n",
       "       [1.00e-01, 1.00e-01, 2.00e-01, 1.00e-01, 3.00e-01, 0.00e+00,\n",
       "        5.00e-01, 1.00e+00, 1.00e-01, 2.00e-01],\n",
       "       [5.00e+02, 7.00e+02, 7.50e+02, 6.00e+02, 1.45e+03, 8.00e+02,\n",
       "        1.50e+03, 2.00e+03, 4.50e+02, 1.00e+03],\n",
       "       [1.00e+00, 1.00e+00, 2.00e+00, 1.00e+00, 2.00e+00, 1.00e+00,\n",
       "        3.00e+00, 3.00e+00, 1.00e+00, 2.00e+00]])"
      ]
     },
     "execution_count": 7,
     "metadata": {},
     "output_type": "execute_result"
    }
   ],
   "source": [
    "X_norm[1] = (X[1] - X[1].min()) / (X[1].max() - X[1].min())\n",
    "X_norm"
   ]
  },
  {
   "cell_type": "code",
   "execution_count": 8,
   "metadata": {
    "colab": {
     "base_uri": "https://localhost:8080/",
     "height": 155
    },
    "colab_type": "code",
    "id": "izkMRdXFcjyK",
    "outputId": "c663a777-7eac-466c-ff56-a76087f3b90b"
   },
   "outputs": [
    {
     "data": {
      "text/plain": [
       "array([[1.        , 1.        , 1.        , 1.        , 1.        ,\n",
       "        1.        , 1.        , 1.        , 1.        , 1.        ],\n",
       "       [0.1       , 0.1       , 0.2       , 0.1       , 0.3       ,\n",
       "        0.        , 0.5       , 1.        , 0.1       , 0.2       ],\n",
       "       [0.03225806, 0.16129032, 0.19354839, 0.09677419, 0.64516129,\n",
       "        0.22580645, 0.67741935, 1.        , 0.        , 0.35483871],\n",
       "       [1.        , 1.        , 2.        , 1.        , 2.        ,\n",
       "        1.        , 3.        , 3.        , 1.        , 2.        ]])"
      ]
     },
     "execution_count": 8,
     "metadata": {},
     "output_type": "execute_result"
    }
   ],
   "source": [
    "X_norm[2] = (X[2] - X[2].min()) / (X[2].max() - X[2].min())\n",
    "X_norm"
   ]
  },
  {
   "cell_type": "code",
   "execution_count": 9,
   "metadata": {
    "colab": {},
    "colab_type": "code",
    "id": "Zy63bpFfeqzu"
   },
   "outputs": [],
   "source": [
    "# Стандартизация"
   ]
  },
  {
   "cell_type": "code",
   "execution_count": 10,
   "metadata": {
    "colab": {
     "base_uri": "https://localhost:8080/",
     "height": 317
    },
    "colab_type": "code",
    "id": "8i9pB-3-fMD4",
    "outputId": "4a249998-968a-4862-b18c-68a32825c0b9"
   },
   "outputs": [
    {
     "data": {
      "text/plain": [
       "(array([1., 4., 2., 1., 0., 1., 0., 0., 0., 1.]),\n",
       " array([ 0.,  1.,  2.,  3.,  4.,  5.,  6.,  7.,  8.,  9., 10.]),\n",
       " <a list of 10 Patch objects>)"
      ]
     },
     "execution_count": 10,
     "metadata": {},
     "output_type": "execute_result"
    },
    {
     "data": {
      "image/png": "[encoded data removed]",
      "text/plain": [
       "<Figure size 432x288 with 1 Axes>"
      ]
     },
     "metadata": {
      "needs_background": "light"
     },
     "output_type": "display_data"
    }
   ],
   "source": [
    "plt.hist(X[1])"
   ]
  },
  {
   "cell_type": "code",
   "execution_count": 11,
   "metadata": {
    "colab": {
     "base_uri": "https://localhost:8080/",
     "height": 334
    },
    "colab_type": "code",
    "id": "-bnAYQqVfRX-",
    "outputId": "3fbece7c-6155-4688-e12f-725c1a3e0b8a"
   },
   "outputs": [
    {
     "data": {
      "text/plain": [
       "(array([3., 2., 1., 1., 0., 0., 2., 0., 0., 1.]),\n",
       " array([ 450.,  605.,  760.,  915., 1070., 1225., 1380., 1535., 1690.,\n",
       "        1845., 2000.]),\n",
       " <a list of 10 Patch objects>)"
      ]
     },
     "execution_count": 11,
     "metadata": {},
     "output_type": "execute_result"
    },
    {
     "data": {
      "image/png": "[encoded data removed]",
      "text/plain": [
       "<Figure size 432x288 with 1 Axes>"
      ]
     },
     "metadata": {
      "needs_background": "light"
     },
     "output_type": "display_data"
    }
   ],
   "source": [
    "plt.hist(X[2])"
   ]
  },
  {
   "cell_type": "code",
   "execution_count": 12,
   "metadata": {
    "colab": {
     "base_uri": "https://localhost:8080/",
     "height": 34
    },
    "colab_type": "code",
    "id": "eBMYUxGBfeGs",
    "outputId": "4dc15798-698d-498a-ea02-5f1ef50ad329"
   },
   "outputs": [
    {
     "data": {
      "text/plain": [
       "2.6"
      ]
     },
     "execution_count": 12,
     "metadata": {},
     "output_type": "execute_result"
    }
   ],
   "source": [
    "X1_mean = X[1].mean()\n",
    "X1_mean"
   ]
  },
  {
   "cell_type": "code",
   "execution_count": 13,
   "metadata": {
    "colab": {
     "base_uri": "https://localhost:8080/",
     "height": 34
    },
    "colab_type": "code",
    "id": "KsBCCu-Cf45z",
    "outputId": "41ddf10d-bef4-42ba-be6f-a3279e4c75a4"
   },
   "outputs": [
    {
     "data": {
      "text/plain": [
       "2.8000000000000003"
      ]
     },
     "execution_count": 13,
     "metadata": {},
     "output_type": "execute_result"
    }
   ],
   "source": [
    "X1_std = X[1].std()\n",
    "X1_std"
   ]
  },
  {
   "cell_type": "code",
   "execution_count": 14,
   "metadata": {
    "colab": {},
    "colab_type": "code",
    "id": "M57-Pzl_f_rF"
   },
   "outputs": [],
   "source": [
    "X_st = X.copy().astype(np.float64)"
   ]
  },
  {
   "cell_type": "code",
   "execution_count": 15,
   "metadata": {
    "colab": {
     "base_uri": "https://localhost:8080/",
     "height": 294
    },
    "colab_type": "code",
    "id": "btJMY0YbgKLb",
    "outputId": "4b1ca1fc-e381-4192-e219-3587abf6cfca"
   },
   "outputs": [
    {
     "data": {
      "text/plain": [
       "array([[ 1.00000000e+00,  1.00000000e+00,  1.00000000e+00,\n",
       "         1.00000000e+00,  1.00000000e+00,  1.00000000e+00,\n",
       "         1.00000000e+00,  1.00000000e+00,  1.00000000e+00,\n",
       "         1.00000000e+00],\n",
       "       [-5.71428571e-01, -5.71428571e-01, -2.14285714e-01,\n",
       "        -5.71428571e-01,  1.42857143e-01, -9.28571429e-01,\n",
       "         8.57142857e-01,  2.64285714e+00, -5.71428571e-01,\n",
       "        -2.14285714e-01],\n",
       "       [ 5.00000000e+02,  7.00000000e+02,  7.50000000e+02,\n",
       "         6.00000000e+02,  1.45000000e+03,  8.00000000e+02,\n",
       "         1.50000000e+03,  2.00000000e+03,  4.50000000e+02,\n",
       "         1.00000000e+03],\n",
       "       [ 1.00000000e+00,  1.00000000e+00,  2.00000000e+00,\n",
       "         1.00000000e+00,  2.00000000e+00,  1.00000000e+00,\n",
       "         3.00000000e+00,  3.00000000e+00,  1.00000000e+00,\n",
       "         2.00000000e+00]])"
      ]
     },
     "execution_count": 15,
     "metadata": {},
     "output_type": "execute_result"
    }
   ],
   "source": [
    "X_st[1] = (X[1] - X1_mean) / X1_std\n",
    "X_st"
   ]
  },
  {
   "cell_type": "code",
   "execution_count": 16,
   "metadata": {
    "colab": {
     "base_uri": "https://localhost:8080/",
     "height": 351
    },
    "colab_type": "code",
    "id": "-Y1tzWGCgYjA",
    "outputId": "93a187e9-639c-4d86-a3e0-5a474c0572b1"
   },
   "outputs": [
    {
     "data": {
      "text/plain": [
       "(array([1., 4., 2., 1., 1., 0., 0., 0., 0., 1.]),\n",
       " array([-0.92857143, -0.57142857, -0.21428571,  0.14285714,  0.5       ,\n",
       "         0.85714286,  1.21428571,  1.57142857,  1.92857143,  2.28571429,\n",
       "         2.64285714]),\n",
       " <a list of 10 Patch objects>)"
      ]
     },
     "execution_count": 16,
     "metadata": {},
     "output_type": "execute_result"
    },
    {
     "data": {
      "image/png": "[encoded data removed]",
      "text/plain": [
       "<Figure size 432x288 with 1 Axes>"
      ]
     },
     "metadata": {
      "needs_background": "light"
     },
     "output_type": "display_data"
    }
   ],
   "source": [
    "plt.hist(X_st[1])"
   ]
  },
  {
   "cell_type": "code",
   "execution_count": 17,
   "metadata": {
    "colab": {},
    "colab_type": "code",
    "id": "ZlJUBOyzgkJV"
   },
   "outputs": [],
   "source": [
    "def calc_std_feat(x):\n",
    "  res = (x - x.mean()) / x.std()\n",
    "  return res\n",
    "  "
   ]
  },
  {
   "cell_type": "code",
   "execution_count": 18,
   "metadata": {
    "colab": {},
    "colab_type": "code",
    "id": "6PlDlFY0hGZA"
   },
   "outputs": [],
   "source": [
    "X_st[2] = calc_std_feat(X[2])"
   ]
  },
  {
   "cell_type": "code",
   "execution_count": 19,
   "metadata": {
    "colab": {
     "base_uri": "https://localhost:8080/",
     "height": 155
    },
    "colab_type": "code",
    "id": "LOKhmhJjt9TR",
    "outputId": "0224825e-483f-49d1-d490-8cf524f44690"
   },
   "outputs": [
    {
     "data": {
      "text/plain": [
       "array([[ 1.        ,  1.        ,  1.        ,  1.        ,  1.        ,\n",
       "         1.        ,  1.        ,  1.        ,  1.        ,  1.        ],\n",
       "       [-0.57142857, -0.57142857, -0.21428571, -0.57142857,  0.14285714,\n",
       "        -0.92857143,  0.85714286,  2.64285714, -0.57142857, -0.21428571],\n",
       "       [-0.97958969, -0.56713087, -0.46401617, -0.77336028,  0.97958969,\n",
       "        -0.36090146,  1.08270439,  2.11385144, -1.08270439,  0.05155735],\n",
       "       [-0.89625816, -0.89625816,  0.38411064, -0.89625816,  0.38411064,\n",
       "        -0.89625816,  1.66447944,  1.66447944, -0.89625816,  0.38411064]])"
      ]
     },
     "execution_count": 19,
     "metadata": {},
     "output_type": "execute_result"
    }
   ],
   "source": [
    "X_st[3] = calc_std_feat(X[3])\n",
    "X_st"
   ]
  },
  {
   "cell_type": "code",
   "execution_count": 20,
   "metadata": {
    "colab": {
     "base_uri": "https://localhost:8080/",
     "height": 155
    },
    "colab_type": "code",
    "id": "UwiZ4UcOhQXX",
    "outputId": "8981e758-359a-4af9-b3d7-2d53682e3946"
   },
   "outputs": [
    {
     "data": {
      "text/plain": [
       "array([[ 1.        ,  1.        ,  1.        ,  1.        ,  1.        ,\n",
       "         1.        ,  1.        ,  1.        ,  1.        ,  1.        ],\n",
       "       [-0.57142857, -0.57142857, -0.21428571, -0.57142857,  0.14285714,\n",
       "        -0.92857143,  0.85714286,  2.64285714, -0.57142857, -0.21428571],\n",
       "       [-0.97958969, -0.56713087, -0.46401617, -0.77336028,  0.97958969,\n",
       "        -0.36090146,  1.08270439,  2.11385144, -1.08270439,  0.05155735],\n",
       "       [-0.89625816, -0.89625816,  0.38411064, -0.89625816,  0.38411064,\n",
       "        -0.89625816,  1.66447944,  1.66447944, -0.89625816,  0.38411064]])"
      ]
     },
     "execution_count": 20,
     "metadata": {},
     "output_type": "execute_result"
    }
   ],
   "source": [
    "X_st"
   ]
  },
  {
   "cell_type": "code",
   "execution_count": 21,
   "metadata": {
    "colab": {},
    "colab_type": "code",
    "id": "UdGy9tjVhZol"
   },
   "outputs": [],
   "source": [
    "# SGD"
   ]
  },
  {
   "cell_type": "code",
   "execution_count": 22,
   "metadata": {
    "colab": {},
    "colab_type": "code",
    "id": "VDpN7UxYnrcS"
   },
   "outputs": [],
   "source": [
    "def calc_mse(y, y_pred):\n",
    "  err = np.mean((y - y_pred)**2)\n",
    "  return err"
   ]
  },
  {
   "cell_type": "code",
   "execution_count": 23,
   "metadata": {
    "colab": {},
    "colab_type": "code",
    "id": "SgEyis2zlJeb"
   },
   "outputs": [],
   "source": [
    "def eval_model(X, y, iterations, alpha=1e-4):\n",
    "  W = np.random.randn(X.shape[0])\n",
    "  n = X.shape[1]\n",
    "  for i in range(1, iterations+1):\n",
    "    y_pred = np.dot(W, X)\n",
    "    err = calc_mse(y, y_pred)\n",
    "    W -= (alpha * (1/n * 2 * np.dot((y_pred - y), X.T)))\n",
    "    if i % (iterations / 10) == 0:\n",
    "      print(i, W, err)\n",
    "  return W"
   ]
  },
  {
   "cell_type": "code",
   "execution_count": 24,
   "metadata": {
    "colab": {
     "base_uri": "https://localhost:8080/",
     "height": 207
    },
    "colab_type": "code",
    "id": "4nsYMAGjmFlB",
    "outputId": "71a5878c-8bcd-4d73-9f43-2df2b94ecd81"
   },
   "outputs": [
    {
     "name": "stdout",
     "output_type": "stream",
     "text": [
      "100 [49.87977493  4.79976008  3.24774451  3.54386102] 99.15584485133888\n",
      "200 [56.40267109  5.04501796  2.96426574  3.63772189] 41.15382180819741\n",
      "300 [57.26773468  5.2323655   2.71255522  3.70550325] 40.03273826872861\n",
      "400 [57.38245903  5.3863991   2.50193468  3.76481643] 39.942843417071366\n",
      "500 [57.39767372  5.51324416  2.32576765  3.81642671] 39.89246716737712\n",
      "600 [57.39969149  5.61782447  2.17844136  3.86109281] 39.85763475262981\n",
      "700 [57.39995909  5.70414333  2.05525155  3.89957413] 39.833395367494646\n",
      "800 [57.39999457  5.77546221  1.95225698  3.93259983] 39.81651878650686\n",
      "900 [57.39999928  5.83444318  1.86615675  3.96085041] 39.80476496232681\n",
      "1000 [57.3999999   5.88326291  1.79418704  3.9849481 ] 39.79657691551382\n"
     ]
    },
    {
     "data": {
      "text/plain": [
       "array([57.3999999 ,  5.88326291,  1.79418704,  3.9849481 ])"
      ]
     },
     "execution_count": 24,
     "metadata": {},
     "output_type": "execute_result"
    }
   ],
   "source": [
    "eval_model(X_st, y, iterations=1000, alpha=1e-2)"
   ]
  },
  {
   "cell_type": "code",
   "execution_count": 25,
   "metadata": {
    "colab": {},
    "colab_type": "code",
    "id": "nCcMmNdQmxDp"
   },
   "outputs": [],
   "source": [
    "def eval_sgd_model(X, y, iterations, qty_in_batch, alpha=1e-4):\n",
    "  W = np.random.randn(X.shape[0])\n",
    "  n = X.shape[1]\n",
    "  n_batch = n // qty_in_batch\n",
    "  if n % qty_in_batch != 0:\n",
    "    n_batch += 1\n",
    "  for i in range(1, iterations+1):\n",
    "    for b in range(n_batch):\n",
    "      start_ = qty_in_batch*b\n",
    "      end_ = qty_in_batch*(b+1)\n",
    "      \n",
    "      # print(b, n_batch, start_, end_)\n",
    "      \n",
    "      X_tmp = X[:, start_ : end_]\n",
    "      y_tmp = y[start_ : end_]\n",
    "      y_pred_tmp = np.dot(W, X_tmp)\n",
    "      err = calc_mse(y_tmp, y_pred_tmp)\n",
    "      W -= (alpha * (1/n * 2 * np.dot((y_pred_tmp - y_tmp), X_tmp.T)))\n",
    "    if i % (iterations / 10) == 0:\n",
    "      print(i, W, err)\n",
    "  return W"
   ]
  },
  {
   "cell_type": "code",
   "execution_count": 129,
   "metadata": {
    "colab": {
     "base_uri": "https://localhost:8080/",
     "height": 207
    },
    "colab_type": "code",
    "id": "2aXap4Vsm3GV",
    "outputId": "af0f4e17-d075-47e7-c848-44c637dadb67"
   },
   "outputs": [
    {
     "name": "stdout",
     "output_type": "stream",
     "text": [
      "1000 [57.39815605  5.82836085  1.7996308   4.0588479 ] 39.17722898932544\n",
      "2000 [57.39784309  6.0996082   1.48426245  4.10565366] 38.45254772887604\n",
      "3000 [57.39779784  6.13672423  1.43121275  4.12210878] 38.309141674736495\n",
      "4000 [57.39779076  6.14238842  1.42241303  4.12533484] 38.284002080108316\n",
      "5000 [57.39778962  6.14329447  1.42096054  4.12589647] 38.279771150705336\n",
      "6000 [57.39778943  6.14344205  1.42072121  4.12599073] 38.27906916751806\n",
      "7000 [57.3977894   6.14346625  1.4206818   4.12600636] 38.27895328602632\n",
      "8000 [57.3977894   6.14347023  1.42067531  4.12600893] 38.27893419138445\n",
      "9000 [57.3977894   6.14347089  1.42067425  4.12600936] 38.278931047075126\n",
      "10000 [57.3977894   6.14347099  1.42067407  4.12600943] 38.27893052942391\n"
     ]
    },
    {
     "data": {
      "text/plain": [
       "array([57.3977894 ,  6.14347099,  1.42067407,  4.12600943])"
      ]
     },
     "execution_count": 129,
     "metadata": {},
     "output_type": "execute_result"
    }
   ],
   "source": [
    "eval_sgd_model(X_st, y, iterations=10000, qty_in_batch=5, alpha=1e-2)"
   ]
  },
  {
   "cell_type": "code",
   "execution_count": 130,
   "metadata": {
    "colab": {},
    "colab_type": "code",
    "id": "DYTxT_6OrZpe"
   },
   "outputs": [],
   "source": [
    "# L1 регуляризация - Lasso"
   ]
  },
  {
   "cell_type": "code",
   "execution_count": 131,
   "metadata": {
    "colab": {},
    "colab_type": "code",
    "id": "Ojkn7xKrsyiw"
   },
   "outputs": [],
   "source": [
    "#f(x, W) + (lambda_/2) * np.sum(np.abs(W))"
   ]
  },
  {
   "cell_type": "code",
   "execution_count": 132,
   "metadata": {
    "colab": {},
    "colab_type": "code",
    "id": "j38vId7Hvtg0"
   },
   "outputs": [],
   "source": [
    "# L2 регуляризация - Ridge"
   ]
  },
  {
   "cell_type": "code",
   "execution_count": 133,
   "metadata": {
    "colab": {},
    "colab_type": "code",
    "id": "KO5BtZ7svv4k"
   },
   "outputs": [],
   "source": [
    "#f(x, W) + (lambda_/2) * np.sum(W**2)"
   ]
  },
  {
   "cell_type": "code",
   "execution_count": 134,
   "metadata": {
    "colab": {},
    "colab_type": "code",
    "id": "VhcEvi875yD4"
   },
   "outputs": [],
   "source": [
    "#df/dw1 = d(w1**2 + w2**2 + w3**2) / dw1 = 2*w1 + 0 + 0 = 2*w1"
   ]
  },
  {
   "cell_type": "code",
   "execution_count": 135,
   "metadata": {
    "colab": {},
    "colab_type": "code",
    "id": "PKmpPziCv3IC"
   },
   "outputs": [],
   "source": [
    "#f'(x, W) + lambda_ * np.sum(W)"
   ]
  },
  {
   "cell_type": "code",
   "execution_count": 251,
   "metadata": {
    "colab": {},
    "colab_type": "code",
    "id": "7AVoe1Mswjni"
   },
   "outputs": [],
   "source": [
    "def eval_model_reg2(X, y, iterations, alpha=1e-4, lambda_=1e-8, flpr=False):\n",
    "    np.random.seed(42)\n",
    "    W = np.random.randn(X.shape[0])\n",
    "    n = X.shape[1]\n",
    "    for i in range(1, iterations+1):\n",
    "        W_old = np.copy(W)\n",
    "        y_pred = np.dot(W_old, X)\n",
    "        err = calc_mse(y, y_pred)\n",
    "        W -= alpha/i * (1/n * 2 * np.dot((y_pred - y), X.T) + lambda_ * W_old) \n",
    "        if i % (iterations / 100) == 0:\n",
    "            if flpr:\n",
    "                print(i, W, err)\n",
    "        #print(np.sum((W-W_old)**2))\n",
    "        #if np.sum((W-W_old)**2)<lambda_:\n",
    "         #   break\n",
    "        #print(abs(err_old-err))\n",
    "        if np.sum((W-W_old)**2)<1e-8:\n",
    "            print('*'*25)\n",
    "            print('lambda=',lambda_) \n",
    "            print('iter=',i, ',W=', W, 'err=', err,', step=',alpha/i )\n",
    "            break\n",
    "    return W"
   ]
  },
  {
   "cell_type": "code",
   "execution_count": 252,
   "metadata": {
    "colab": {
     "base_uri": "https://localhost:8080/",
     "height": 207
    },
    "colab_type": "code",
    "id": "vLJL6j8Lw6OA",
    "outputId": "84591f9f-2c7d-42fc-f2e2-5d2614be6113"
   },
   "outputs": [
    {
     "name": "stdout",
     "output_type": "stream",
     "text": [
      "1000 [57.39713014  5.54723947  2.07852585  4.03329037] 39.84928782576074\n",
      "*************************\n",
      "lambda= 0.0001\n",
      "iter= 1524 ,W= [57.39713014  5.59537282  2.0320882   4.03213489] err= 39.83862901919569 , step= 0.0006561679790026247\n"
     ]
    },
    {
     "data": {
      "text/plain": [
       "array([57.39713014,  5.59537282,  2.0320882 ,  4.03213489])"
      ]
     },
     "execution_count": 252,
     "metadata": {},
     "output_type": "execute_result"
    }
   ],
   "source": [
    "eval_model_reg2(X_st, y, iterations=100000, alpha=1, lambda_=1e-4, flpr=True)"
   ]
  },
  {
   "cell_type": "code",
   "execution_count": 253,
   "metadata": {},
   "outputs": [
    {
     "name": "stdout",
     "output_type": "stream",
     "text": [
      "*************************\n",
      "lambda= 0.0\n",
      "iter= 1525 ,W= [57.4         5.59596519  2.03151745  4.03233148] err= 39.83849561161834 , step= 0.0006557377049180328\n",
      "*************************\n",
      "lambda= 0.01\n",
      "iter= 1429 ,W= [57.1144276   5.53809442  2.08680185  4.01315769] err= 39.93323322816484 , step= 0.0006997900629811056\n",
      "*************************\n",
      "lambda= 0.02\n",
      "iter= 1340 ,W= [56.83168262  5.48281531  2.13868928  3.99490873] err= 40.18911186717245 , step= 0.0007462686567164179\n",
      "*************************\n",
      "lambda= 0.03\n",
      "iter= 1258 ,W= [56.55172327  5.42999801  2.18738442  3.97750659] err= 40.60125859233853 , step= 0.000794912559618442\n",
      "*************************\n",
      "lambda= 0.04\n",
      "iter= 1182 ,W= [56.27450858  5.37945061  2.23314388  3.96088288] err= 41.16497893550702 , step= 0.0008460236886632825\n",
      "*************************\n",
      "lambda= 0.05\n",
      "iter= 1112 ,W= [55.99999839  5.33106278  2.27614004  3.94497286] err= 41.875711801999465 , step= 0.0008992805755395684\n",
      "*************************\n",
      "lambda= 0.06\n",
      "iter= 1046 ,W= [55.7281533   5.28458635  2.31666722  3.9297263 ] err= 42.72908606455332 , step= 0.0009560229445506692\n",
      "*************************\n",
      "lambda= 0.07\n",
      "iter= 986 ,W= [55.4589347   5.24007327  2.35473539  3.91508048] err= 43.72077981666682 , step= 0.0010141987829614604\n",
      "*************************\n",
      "lambda= 0.08\n",
      "iter= 929 ,W= [55.19230468  5.1972158   2.39068127  3.90100195] err= 44.846720703193775 , step= 0.001076426264800861\n",
      "*************************\n",
      "lambda= 0.09\n",
      "iter= 877 ,W= [54.9282261   5.15608001  2.42449409  3.8874349 ] err= 46.10284342552114 , step= 0.0011402508551881414\n",
      "*************************\n",
      "lambda= 0.1\n",
      "iter= 827 ,W= [54.6666625   5.11636868  2.45648829  3.87435797] err= 47.48533235748518 , step= 0.0012091898428053204\n",
      "*************************\n",
      "lambda= 0.11\n",
      "iter= 782 ,W= [54.40757813  5.07823424  2.4865699   3.86171313] err= 48.99033060465716 , step= 0.0012787723785166241\n",
      "*************************\n",
      "lambda= 0.12\n",
      "iter= 739 ,W= [54.15093788  5.04138862  2.51503543  3.84948804] err= 50.61425701095367 , step= 0.0013531799729364006\n",
      "*************************\n",
      "lambda= 0.13\n",
      "iter= 699 ,W= [53.89670734  5.00584545  2.54190904  3.83764409] err= 52.35352935689743 , step= 0.001430615164520744\n",
      "*************************\n",
      "lambda= 0.14\n",
      "iter= 662 ,W= [53.64485273  4.97154835  2.56727489  3.82615199] err= 54.20469689069925 , step= 0.0015105740181268882\n",
      "*************************\n",
      "lambda= 0.15\n",
      "iter= 627 ,W= [53.39534088  4.93836956  2.59127595  3.81499443] err= 56.164440890519515 , step= 0.001594896331738437\n",
      "*************************\n",
      "lambda= 0.16\n",
      "iter= 594 ,W= [53.14813925  4.90625958  2.61398423  3.80414755] err= 58.22951048565333 , step= 0.0016835016835016834\n",
      "*************************\n",
      "lambda= 0.17\n",
      "iter= 563 ,W= [52.90321589  4.87517226  2.63546683  3.79358918] err= 60.39674843184419 , step= 0.0017761989342806395\n",
      "*************************\n",
      "lambda= 0.18\n",
      "iter= 534 ,W= [52.66053945  4.84506449  2.65578635  3.78329861] err= 62.66308795767617 , step= 0.0018726591760299626\n",
      "*************************\n",
      "lambda= 0.19\n",
      "iter= 507 ,W= [52.42007916  4.81589599  2.67500126  3.77325655] err= 65.02554976311495 , step= 0.0019723865877712033\n",
      "*************************\n",
      "lambda= 0.2\n",
      "iter= 481 ,W= [52.18180475  4.78755283  2.69322928  3.76345741] err= 67.48127431808908 , step= 0.002079002079002079\n",
      "*************************\n",
      "lambda= 0.21\n",
      "iter= 457 ,W= [51.9456866   4.76007564  2.71045781  3.75387285] err= 70.02741497885759 , step= 0.002188183807439825\n",
      "*************************\n",
      "lambda= 0.22\n",
      "iter= 435 ,W= [51.71169559  4.73343132  2.72673476  3.74448708] err= 72.66123805392417 , step= 0.0022988505747126436\n",
      "*************************\n",
      "lambda= 0.23\n",
      "iter= 413 ,W= [51.47980293  4.70743547  2.74222931  3.735313  ] err= 75.38016106772452 , step= 0.002421307506053269\n",
      "*************************\n",
      "lambda= 0.24\n",
      "iter= 393 ,W= [51.2499807   4.68221174  2.75685804  3.72631087] err= 78.1815294187963 , step= 0.002544529262086514\n",
      "*************************\n",
      "lambda= 0.25\n",
      "iter= 374 ,W= [51.0222012   4.65765579  2.77072207  3.71748237] err= 81.06287086813754 , step= 0.00267379679144385\n",
      "*************************\n",
      "lambda= 0.26\n",
      "iter= 356 ,W= [50.7964373   4.63374148  2.78385768  3.70881655] err= 84.02174622714931 , step= 0.0028089887640449437\n",
      "*************************\n",
      "lambda= 0.27\n",
      "iter= 339 ,W= [50.57266238  4.6104442   2.79629895  3.70030314] err= 87.05578379172329 , step= 0.0029498525073746312\n",
      "*************************\n",
      "lambda= 0.28\n",
      "iter= 323 ,W= [50.35085027  4.58774078  2.80807791  3.69193253] err= 90.16267725145777 , step= 0.0030959752321981426\n",
      "*************************\n",
      "lambda= 0.29\n",
      "iter= 308 ,W= [50.13097526  4.56560934  2.81922472  3.6836957 ] err= 93.3401836766034 , step= 0.003246753246753247\n",
      "*************************\n",
      "lambda= 0.3\n",
      "iter= 294 ,W= [49.9130121   4.54402922  2.82976777  3.67558421] err= 96.58612158090357 , step= 0.003401360544217687\n",
      "*************************\n",
      "lambda= 0.31\n",
      "iter= 280 ,W= [49.69693571  4.52290339  2.83979373  3.66760711] err= 99.8984129996397 , step= 0.0035714285714285713\n",
      "*************************\n",
      "lambda= 0.32\n",
      "iter= 267 ,W= [49.48272192  4.50229081  2.84926739  3.65974066] err= 103.27495182807252 , step= 0.003745318352059925\n",
      "*************************\n",
      "lambda= 0.33\n",
      "iter= 255 ,W= [49.2703468   4.48217408  2.8582125   3.65197781] err= 106.71372993765226 , step= 0.00392156862745098\n",
      "*************************\n",
      "lambda= 0.34\n",
      "iter= 243 ,W= [49.05978641  4.46245888  2.86671079  3.64432996] err= 110.21284112530243 , step= 0.00411522633744856\n",
      "*************************\n",
      "lambda= 0.35000000000000003\n",
      "iter= 232 ,W= [48.85101796  4.44320732  2.87472373  3.63677354] err= 113.77033918813693 , step= 0.004310344827586207\n",
      "*************************\n",
      "lambda= 0.36\n",
      "iter= 222 ,W= [48.64401873  4.42440455  2.88227141  3.62930272] err= 117.38437405985387 , step= 0.0045045045045045045\n",
      "*************************\n",
      "lambda= 0.37\n",
      "iter= 212 ,W= [48.43876584  4.40595859  2.88943133  3.62193081] err= 121.05319742798424 , step= 0.0047169811320754715\n",
      "*************************\n",
      "lambda= 0.38\n",
      "iter= 202 ,W= [48.23523717  4.38785601  2.8962208   3.6146534 ] err= 124.77506212349029 , step= 0.0049504950495049506\n",
      "*************************\n",
      "lambda= 0.39\n",
      "iter= 193 ,W= [48.0334117   4.37016203  2.90259805  3.60744709] err= 128.5482117715954 , step= 0.0051813471502590676\n",
      "*************************\n",
      "lambda= 0.4\n",
      "iter= 184 ,W= [47.83326744  4.35278653  2.90863721  3.60032677] err= 132.37104477524332 , step= 0.005434782608695652\n",
      "*************************\n",
      "lambda= 0.41000000000000003\n",
      "iter= 176 ,W= [47.63478427  4.33579623  2.91429501  3.59326908] err= 136.24188961593106 , step= 0.005681818181818182\n",
      "*************************\n",
      "lambda= 0.42\n",
      "iter= 168 ,W= [47.43794073  4.319102    2.9196437   3.5862898 ] err= 140.15923674516887 , step= 0.005952380952380952\n",
      "*************************\n",
      "lambda= 0.43\n",
      "iter= 161 ,W= [47.24271765  4.30277157  2.92463887  3.57936572] err= 144.12149316131502 , step= 0.006211180124223602\n",
      "*************************\n",
      "lambda= 0.44\n",
      "iter= 154 ,W= [47.049094    4.28671694  2.92935097  3.57251335] err= 148.12723720983178 , step= 0.006493506493506494\n",
      "*************************\n",
      "lambda= 0.45\n",
      "iter= 147 ,W= [46.85705005  4.27092887  2.93379178  3.56572966] err= 152.17502506031798 , step= 0.006802721088435374\n",
      "*************************\n",
      "lambda= 0.46\n",
      "iter= 140 ,W= [46.66656632  4.25539835  2.93797271  3.55901185] err= 156.2634525152052 , step= 0.007142857142857143\n",
      "*************************\n",
      "lambda= 0.47000000000000003\n",
      "iter= 134 ,W= [46.47762563  4.24019466  2.9418474   3.5523371 ] err= 160.3910646555036 , step= 0.007462686567164179\n",
      "*************************\n",
      "lambda= 0.48\n",
      "iter= 128 ,W= [46.29020757  4.22523182  2.94548338  3.54572286] err= 164.55660844047117 , step= 0.0078125\n",
      "*************************\n",
      "lambda= 0.49\n",
      "iter= 122 ,W= [46.10429354  4.21050218  2.94889036  3.53916665] err= 168.75878958943832 , step= 0.00819672131147541\n",
      "*************************\n",
      "lambda= 0.5\n",
      "iter= 116 ,W= [45.9198652   4.19599824  2.95207777  3.53266613] err= 172.9963500794616 , step= 0.008620689655172414\n",
      "*************************\n",
      "lambda= 0.51\n",
      "iter= 111 ,W= [45.73690773  4.18179079  2.95499715  3.52619914] err= 177.2679418795589 , step= 0.009009009009009009\n",
      "*************************\n",
      "lambda= 0.52\n",
      "iter= 106 ,W= [45.55540079  4.16779523  2.95771421  3.51978359] err= 181.57247679860362 , step= 0.009433962264150943\n",
      "*************************\n",
      "lambda= 0.53\n",
      "iter= 101 ,W= [45.37532685  4.15400534  2.96023692  3.51341734] err= 185.90879497785096 , step= 0.009900990099009901\n",
      "*************************\n",
      "lambda= 0.54\n",
      "iter= 96 ,W= [45.19666856  4.14041508  2.96257301  3.50709831] err= 190.27577010861503 , step= 0.010416666666666666\n",
      "*************************\n",
      "lambda= 0.55\n",
      "iter= 92 ,W= [45.01941422  4.12709546  2.96467227  3.50080592] err= 194.67212109431307 , step= 0.010869565217391304\n",
      "*************************\n",
      "lambda= 0.56\n",
      "iter= 87 ,W= [44.84353661  4.11388764  2.96665661  3.49457554] err= 199.09713915908597 , step= 0.011494252873563218\n",
      "*************************\n",
      "lambda= 0.5700000000000001\n",
      "iter= 83 ,W= [44.66903079  4.10093943  2.96841748  3.48836873] err= 203.5493913555055 , step= 0.012048192771084338\n",
      "*************************\n",
      "lambda= 0.58\n",
      "iter= 79 ,W= [44.4958748   4.08816925  2.97001885  3.48220215] err= 208.02805840821074 , step= 0.012658227848101266\n",
      "*************************\n",
      "lambda= 0.59\n",
      "iter= 75 ,W= [44.32405231  4.0755726   2.9714668   3.47607385] err= 212.53216433144908 , step= 0.013333333333333334\n",
      "*************************\n",
      "lambda= 0.6\n",
      "iter= 71 ,W= [44.15354699  4.06314518  2.97276725  3.46998187] err= 217.06076633245658 , step= 0.014084507042253521\n",
      "*************************\n",
      "lambda= 0.61\n",
      "iter= 67 ,W= [43.98434247  4.05088293  2.97392597  3.46392413] err= 221.61295713159 , step= 0.014925373134328358\n",
      "*************************\n",
      "lambda= 0.62\n",
      "iter= 64 ,W= [43.81643738  4.03885592  2.97488797  3.45788589] err= 226.18738250490668 , step= 0.015625\n",
      "*************************\n",
      "lambda= 0.63\n",
      "iter= 60 ,W= [43.64978753  4.02691311  2.97577855  3.45189123] err= 230.7840902514521 , step= 0.016666666666666666\n",
      "*************************\n",
      "lambda= 0.64\n"
     ]
    },
    {
     "name": "stdout",
     "output_type": "stream",
     "text": [
      "iter= 57 ,W= [43.48440956  4.01519731  2.97648136  3.44591468] err= 235.40121346731135 , step= 0.017543859649122806\n",
      "*************************\n",
      "lambda= 0.65\n",
      "iter= 54 ,W= [43.32027257  4.00363194  2.97706158  3.43996665] err= 240.03843528600228 , step= 0.018518518518518517\n",
      "*************************\n",
      "lambda= 0.66\n",
      "iter= 51 ,W= [43.15736063  3.99221468  2.97752356  3.43404479] err= 244.69499173534987 , step= 0.0196078431372549\n",
      "*************************\n",
      "lambda= 0.67\n",
      "iter= 48 ,W= [42.99565734  3.98094362  2.97787155  3.42814644] err= 249.37016519256684 , step= 0.020833333333333332\n",
      "*************************\n",
      "lambda= 0.68\n",
      "iter= 46 ,W= [42.83518488  3.96987791  2.97804661  3.42227182] err= 254.06200437876365 , step= 0.021739130434782608\n",
      "*************************\n",
      "lambda= 0.6900000000000001\n",
      "iter= 43 ,W= [42.67585512  3.95889271  2.9781774   3.41641529] err= 258.7721966392016 , step= 0.023255813953488372\n",
      "*************************\n",
      "lambda= 0.7000000000000001\n",
      "iter= 41 ,W= [42.51773624  3.94810234  2.97814247  3.41058521] err= 263.4973215743892 , step= 0.024390243902439025\n",
      "*************************\n",
      "lambda= 0.71\n",
      "iter= 40 ,W= [42.36083153  3.93748715  2.9779486   3.40479417] err= 268.2360691789683 , step= 0.025\n",
      "*************************\n",
      "lambda= 0.72\n",
      "iter= 38 ,W= [42.20501953  3.92695513  2.97771856  3.39900954] err= 272.9913897157403 , step= 0.02631578947368421\n",
      "*************************\n",
      "lambda= 0.73\n",
      "iter= 37 ,W= [42.05040504  3.91657907  2.9773404   3.39327174] err= 277.75860364311797 , step= 0.02702702702702703\n",
      "*************************\n",
      "lambda= 0.74\n",
      "iter= 36 ,W= [41.89691792  3.90631523  2.97687616  3.38756142] err= 282.53898760183677 , step= 0.027777777777777776\n",
      "*************************\n",
      "lambda= 0.75\n",
      "iter= 36 ,W= [41.74461518  3.89616496  2.97628484  3.38191862] err= 287.32944621333644 , step= 0.027777777777777776\n",
      "*************************\n",
      "lambda= 0.76\n",
      "iter= 35 ,W= [41.59334941  3.88610996  2.97565995  3.37626644] err= 292.13407654691866 , step= 0.02857142857142857\n",
      "*************************\n",
      "lambda= 0.77\n",
      "iter= 35 ,W= [41.4432434   3.87614436  2.97492289  3.37069043] err= 296.9474932417562 , step= 0.02857142857142857\n",
      "*************************\n",
      "lambda= 0.78\n",
      "iter= 35 ,W= [41.29421597  3.86626405  2.97411901  3.36514836] err= 301.7715340439768 , step= 0.02857142857142857\n",
      "*************************\n",
      "lambda= 0.79\n",
      "iter= 35 ,W= [41.14625549  3.85646796  2.9732501   3.35963924] err= 306.60560859035274 , step= 0.02857142857142857\n",
      "*************************\n",
      "lambda= 0.8\n",
      "iter= 35 ,W= [40.99935055  3.84675504  2.9723179   3.35416212] err= 311.44914164537715 , step= 0.02857142857142857\n",
      "*************************\n",
      "lambda= 0.81\n",
      "iter= 35 ,W= [40.85348986  3.83712423  2.9713241   3.34871609] err= 316.3015727122274 , step= 0.02857142857142857\n",
      "*************************\n",
      "lambda= 0.8200000000000001\n",
      "iter= 36 ,W= [40.708706    3.82752044  2.97026198  3.34336313] err= 321.16074329752826 , step= 0.027777777777777776\n",
      "*************************\n",
      "lambda= 0.8300000000000001\n",
      "iter= 36 ,W= [40.56489739  3.81804493  2.96915363  3.33797876] err= 326.0294581887818 , step= 0.027777777777777776\n",
      "*************************\n",
      "lambda= 0.84\n",
      "iter= 37 ,W= [40.42213368  3.80858751  2.96798707  3.33268567] err= 330.9042319746542 , step= 0.02702702702702703\n",
      "*************************\n",
      "lambda= 0.85\n",
      "iter= 37 ,W= [40.2803347   3.79926544  2.9667692   3.32735877] err= 335.78713724612714 , step= 0.02702702702702703\n",
      "*************************\n",
      "lambda= 0.86\n",
      "iter= 38 ,W= [40.13955132  3.78995514  2.96550143  3.32212057] err= 340.6754048909066 , step= 0.02631578947368421\n",
      "*************************\n",
      "lambda= 0.87\n",
      "iter= 38 ,W= [39.99972062  3.78078426  2.96417903  3.31684738] err= 345.5705133970679 , step= 0.02631578947368421\n",
      "*************************\n",
      "lambda= 0.88\n",
      "iter= 38 ,W= [39.86085994  3.77168951  2.96280516  3.31159937] err= 350.4709723069553 , step= 0.02631578947368421\n",
      "*************************\n",
      "lambda= 0.89\n",
      "iter= 39 ,W= [39.72297582  3.76259866  2.96139153  3.30643694] err= 355.37570677914266 , step= 0.02564102564102564\n",
      "*************************\n",
      "lambda= 0.9\n",
      "iter= 39 ,W= [39.58602326  3.75365075  2.95992067  3.30123796] err= 360.2855817521573 , step= 0.02564102564102564\n",
      "*************************\n",
      "lambda= 0.91\n",
      "iter= 39 ,W= [39.45001103  3.74477614  2.95840235  3.29606224] err= 365.1994735251386 , step= 0.02564102564102564\n",
      "*************************\n",
      "lambda= 0.92\n",
      "iter= 40 ,W= [39.31493963  3.73590098  2.95685205  3.29096798] err= 370.1165893238184 , step= 0.025\n",
      "*************************\n",
      "lambda= 0.93\n",
      "iter= 40 ,W= [39.18077777  3.72716854  2.95524393  3.2858373 ] err= 375.03731965544665 , step= 0.025\n",
      "*************************\n",
      "lambda= 0.9400000000000001\n",
      "iter= 40 ,W= [39.04752775  3.71850655  2.9535921   3.28072824] err= 379.96083344133655 , step= 0.025\n",
      "*************************\n",
      "lambda= 0.9500000000000001\n",
      "iter= 40 ,W= [38.91518032  3.70991401  2.9518978   3.27564035] err= 384.886741166221 , step= 0.025\n",
      "*************************\n",
      "lambda= 0.96\n",
      "iter= 40 ,W= [38.78372635  3.7013899   2.95016224  3.27057317] err= 389.814663386845 , step= 0.025\n",
      "*************************\n",
      "lambda= 0.97\n",
      "iter= 40 ,W= [38.65315683  3.69293324  2.94838658  3.26552629] err= 394.7442304825958 , step= 0.025\n",
      "*************************\n",
      "lambda= 0.98\n",
      "iter= 40 ,W= [38.52346286  3.68454306  2.94657198  3.26049931] err= 399.67508241278557 , step= 0.025\n",
      "*************************\n",
      "lambda= 0.99\n",
      "iter= 40 ,W= [38.3946357   3.67621839  2.94471954  3.25549184] err= 404.606868480406 , step= 0.025\n",
      "*************************\n",
      "lambda= 1.0\n",
      "iter= 40 ,W= [38.26666667  3.6679583   2.94283035  3.25050352] err= 409.53924710214653 , step= 0.025\n"
     ]
    }
   ],
   "source": [
    "Nl=100\n",
    "res = np.zeros((4,Nl+1))\n",
    "for i in range(0,Nl+1):\n",
    "    lambda_ = 1/Nl*i\n",
    "    t = eval_model_reg2(X_st, y, iterations=100000, alpha=1, lambda_=lambda_, flpr=False)\n",
    "    res[0][i]=t[0]\n",
    "    res[1][i]=t[1]\n",
    "    res[2][i]=t[2]\n",
    "    res[3][i]=t[3]\n"
   ]
  },
  {
   "cell_type": "code",
   "execution_count": 254,
   "metadata": {},
   "outputs": [
    {
     "data": {
      "image/png": "[encoded data removed]",
      "text/plain": [
       "<Figure size 432x288 with 1 Axes>"
      ]
     },
     "metadata": {
      "needs_background": "light"
     },
     "output_type": "display_data"
    }
   ],
   "source": [
    "import matplotlib.pyplot as plt\n",
    "\n",
    "xx = np.linspace(0, 1, Nl+1)\n",
    "plt.plot(xx, res[:][0])\n",
    "plt.plot(xx, res[:][1], c='red')\n",
    "plt.xlabel('lambda')\n",
    "plt.ylabel('W0, W1')\n",
    "plt.grid(True)\n",
    "plt.show()"
   ]
  },
  {
   "cell_type": "code",
   "execution_count": 255,
   "metadata": {},
   "outputs": [
    {
     "data": {
      "image/png": "[encoded data removed]",
      "text/plain": [
       "<Figure size 432x288 with 1 Axes>"
      ]
     },
     "metadata": {
      "needs_background": "light"
     },
     "output_type": "display_data"
    }
   ],
   "source": [
    "import matplotlib.pyplot as plt\n",
    "\n",
    "xx = np.linspace(0, 1, Nl+1)\n",
    "plt.plot(xx, res[:][2])\n",
    "plt.plot(xx, res[:][3], c='red')\n",
    "plt.xlabel('lambda')\n",
    "plt.ylabel('W2, W3')\n",
    "plt.grid(True)\n",
    "plt.show()"
   ]
  },
  {
   "cell_type": "markdown",
   "metadata": {},
   "source": [
    "## 2. Можно ли к одному и тому же признаку применить сразу и нормализацию, и стандартизацию?"
   ]
  },
  {
   "cell_type": "markdown",
   "metadata": {},
   "source": [
    "Можно, полагаю правильным было бы применение нормализации, затем стандартизации."
   ]
  },
  {
   "cell_type": "markdown",
   "metadata": {},
   "source": [
    "## 3*. Напишите функцию наподобие eval_model_reg2, но для применения L1-регуляризации."
   ]
  },
  {
   "cell_type": "code",
   "execution_count": 256,
   "metadata": {},
   "outputs": [],
   "source": [
    "def eval_model_reg_L1(X, y, iterations, alpha=1e-4, lambda_=1e-8, flpr=False):\n",
    "    np.random.seed(42)\n",
    "    W = np.random.randn(X.shape[0])\n",
    "    n = X.shape[1]\n",
    "    err = 1\n",
    "    for i in range(1, iterations+1):\n",
    "        W_old = np.copy(W)\n",
    "        y_pred = np.dot(W_old, X)\n",
    "        err_old = err\n",
    "        err = calc_mse(y, y_pred)\n",
    "        W -= alpha/i * (1/n * 2 * np.dot((y_pred - y), X.T) + lambda_ * 1/abs(W_old))\n",
    "        if i % (iterations / 100) == 0:\n",
    "            if flpr:\n",
    "                print(i, W, err)\n",
    "        #print(np.sum((W-W_old)**2))\n",
    "        #if np.sum((W-W_old)**2)<lambda_:\n",
    "         #   break\n",
    "        #print(abs(err_old-err))\n",
    "        if np.sum((W-W_old)**2)<1e-8:\n",
    "            print('*'*25)\n",
    "            print('lambda=',lambda_) \n",
    "            print('iter=',i, ',W=', W, 'err=', err,', step=',alpha/i )\n",
    "            break\n",
    "    return W"
   ]
  },
  {
   "cell_type": "code",
   "execution_count": 257,
   "metadata": {},
   "outputs": [
    {
     "name": "stdout",
     "output_type": "stream",
     "text": [
      "1000 [57.39999913  5.54766622  2.07806986  4.03352019] 39.849177160614694\n",
      "*************************\n",
      "lambda= 0.0001\n",
      "iter= 1525 ,W= [57.39999913  5.59591692  2.03151749  4.03236324] err= 39.838500941152226 , step= 0.0006557377049180328\n"
     ]
    },
    {
     "data": {
      "text/plain": [
       "array([57.39999913,  5.59591692,  2.03151749,  4.03236324])"
      ]
     },
     "execution_count": 257,
     "metadata": {},
     "output_type": "execute_result"
    }
   ],
   "source": [
    "eval_model_reg_L1(X_st, y, iterations=100000, alpha=1, lambda_=1e-4, flpr=True)"
   ]
  },
  {
   "cell_type": "code",
   "execution_count": 258,
   "metadata": {},
   "outputs": [
    {
     "name": "stdout",
     "output_type": "stream",
     "text": [
      "*************************\n",
      "lambda= 0.0\n",
      "iter= 1525 ,W= [57.4         5.59596519  2.03151745  4.03233148] err= 39.83849561161834 , step= 0.0006557377049180328\n",
      "*************************\n",
      "lambda= 0.01\n",
      "iter= 1550 ,W= [57.39991289  5.59292749  2.02978411  4.03547532] err= 39.83865355261438 , step= 0.0006451612903225806\n",
      "*************************\n",
      "lambda= 0.02\n",
      "iter= 1576 ,W= [57.39982578  5.58996014  2.02799385  4.03860537] err= 39.83880861394025 , step= 0.0006345177664974619\n",
      "*************************\n",
      "lambda= 0.03\n",
      "iter= 1601 ,W= [57.39973867  5.58691857  2.02628625  4.04172505] err= 39.83899153210946 , step= 0.0006246096189881324\n",
      "*************************\n",
      "lambda= 0.04\n",
      "iter= 1627 ,W= [57.39965157  5.5839455   2.02452303  4.04483142] err= 39.83917177542042 , step= 0.0006146281499692685\n",
      "*************************\n",
      "lambda= 0.05\n",
      "iter= 1653 ,W= [57.39956446  5.58096812  2.02277419  4.04792655] err= 39.83936480548124 , step= 0.0006049606775559589\n",
      "*************************\n",
      "lambda= 0.06\n",
      "iter= 1678 ,W= [57.39947735  5.57791326  2.02110932  4.05101338] err= 39.839586230032765 , step= 0.0005959475566150178\n",
      "*************************\n",
      "lambda= 0.07\n",
      "iter= 1704 ,W= [57.39939024  5.57492425  2.01939077  4.05408753] err= 39.83980530375659 , step= 0.0005868544600938967\n",
      "*************************\n",
      "lambda= 0.08\n",
      "iter= 1730 ,W= [57.39930313  5.57192805  2.01768826  4.05715168] err= 39.84003760545367 , step= 0.0005780346820809249\n",
      "*************************\n",
      "lambda= 0.09\n",
      "iter= 1756 ,W= [57.39921602  5.56892373  2.01600235  4.06020622] err= 39.84028328734523 , step= 0.0005694760820045558\n",
      "*************************\n",
      "lambda= 0.1\n",
      "iter= 1782 ,W= [57.39912891  5.56591038  2.01433362  4.06325148] err= 39.840542504502864 , step= 0.0005611672278338945\n",
      "*************************\n",
      "lambda= 0.11\n",
      "iter= 1808 ,W= [57.3990418   5.56288709  2.01268266  4.06628778] err= 39.840815414891274 , step= 0.0005530973451327434\n",
      "*************************\n",
      "lambda= 0.12\n",
      "iter= 1834 ,W= [57.39895469  5.55985297  2.01105007  4.06931544] err= 39.84110217941904 , step= 0.0005452562704471102\n",
      "*************************\n",
      "lambda= 0.13\n",
      "iter= 1860 ,W= [57.39886757  5.55680715  2.00943645  4.07233475] err= 39.84140296199683 , step= 0.0005376344086021505\n",
      "*************************\n",
      "lambda= 0.14\n",
      "iter= 1886 ,W= [57.39878046  5.55374875  2.00784242  4.07534596] err= 39.8417179296029 , step= 0.0005302226935312832\n",
      "*************************\n",
      "lambda= 0.15\n",
      "iter= 1913 ,W= [57.39869335  5.55074965  2.0062002   4.07834538] err= 39.842031424583894 , step= 0.0005227391531625719\n",
      "*************************\n",
      "lambda= 0.16\n",
      "iter= 1939 ,W= [57.39860624  5.54766356  2.00464731  4.08134101] err= 39.84237522984135 , step= 0.0005157297576070139\n",
      "*************************\n",
      "lambda= 0.17\n",
      "iter= 1966 ,W= [57.39851913  5.54463514  2.00304762  4.08432507] err= 39.842717829962275 , step= 0.000508646998982706\n",
      "*************************\n",
      "lambda= 0.18\n",
      "iter= 1992 ,W= [57.39843201  5.54151794  2.00153847  4.08730602] err= 39.8430911752656 , step= 0.000502008032128514\n",
      "*************************\n",
      "lambda= 0.19\n",
      "iter= 2019 ,W= [57.3983449   5.53845678  1.99998394  4.09027558] err= 39.84346359199207 , step= 0.0004952947003467063\n",
      "*************************\n",
      "lambda= 0.2\n",
      "iter= 2045 ,W= [57.39825779  5.53530507  1.99852124  4.09324261] err= 39.84386720747984 , step= 0.0004889975550122249\n",
      "*************************\n",
      "lambda= 0.21\n",
      "iter= 2072 ,W= [57.39817067  5.53220779  1.99701463  4.09619838] err= 39.844270180932696 , step= 0.00048262548262548264\n",
      "*************************\n",
      "lambda= 0.22\n",
      "iter= 2099 ,W= [57.39808356  5.52909119  1.99553307  4.09914746] err= 39.844688699017475 , step= 0.0004764173415912339\n",
      "*************************\n",
      "lambda= 0.23\n",
      "iter= 2126 ,W= [57.39799645  5.52595442  1.99407727  4.10208998] err= 39.84512295715539 , step= 0.00047036688617121356\n",
      "*************************\n",
      "lambda= 0.24\n",
      "iter= 2153 ,W= [57.39790933  5.52279665  1.99264799  4.10502608] err= 39.84557315489761 , step= 0.00046446818392940084\n",
      "*************************\n",
      "lambda= 0.25\n",
      "iter= 2180 ,W= [57.39782222  5.51961701  1.99124599  4.10795586] err= 39.84603949606444 , step= 0.00045871559633027525\n",
      "*************************\n",
      "lambda= 0.26\n",
      "iter= 2207 ,W= [57.3977351   5.51641467  1.98987204  4.11087943] err= 39.84652218889296 , step= 0.00045310376076121433\n",
      "*************************\n",
      "lambda= 0.27\n",
      "iter= 2234 ,W= [57.39764799  5.51318876  1.98852694  4.11379689] err= 39.84702144619404 , step= 0.0004476275738585497\n",
      "*************************\n",
      "lambda= 0.28\n",
      "iter= 2261 ,W= [57.39756087  5.50993841  1.98721152  4.11670829] err= 39.84753748551829 , step= 0.0004422821760283061\n",
      "*************************\n",
      "lambda= 0.29\n",
      "iter= 2289 ,W= [57.39747376  5.50673588  1.98585861  4.11960858] err= 39.84805408974717 , step= 0.00043687199650502403\n",
      "*************************\n",
      "lambda= 0.3\n",
      "iter= 2316 ,W= [57.39738664  5.5034341   1.98460505  4.12250803] err= 39.84860431471778 , step= 0.0004317789291882556\n",
      "*************************\n",
      "lambda= 0.31\n",
      "iter= 2343 ,W= [57.39729953  5.50010526  1.98338372  4.12540158] err= 39.84917200343572 , step= 0.0004268032437046522\n",
      "*************************\n",
      "lambda= 0.32\n",
      "iter= 2371 ,W= [57.39721241  5.49682163  1.98212757  4.12828399] err= 39.84974080863945 , step= 0.00042176296921130323\n",
      "*************************\n",
      "lambda= 0.33\n",
      "iter= 2399 ,W= [57.39712529  5.49350918  1.98090548  4.13116047] err= 39.850327461125815 , step= 0.00041684035014589413\n",
      "*************************\n",
      "lambda= 0.34\n",
      "iter= 2426 ,W= [57.39703818  5.49009389  1.97978631  4.1340364 ] err= 39.85094888291487 , step= 0.00041220115416323167\n",
      "*************************\n",
      "lambda= 0.35000000000000003\n",
      "iter= 2454 ,W= [57.39695106  5.48672108  1.97863517  4.13690106] err= 39.85157202196514 , step= 0.00040749796251018743\n",
      "*************************\n",
      "lambda= 0.36\n",
      "iter= 2482 ,W= [57.39686394  5.48331671  1.97752098  4.13975979] err= 39.85221376715363 , step= 0.00040290088638195\n",
      "*************************\n",
      "lambda= 0.37\n",
      "iter= 2510 ,W= [57.39677682  5.47987983  1.97644475  4.14261255] err= 39.85287438401322 , step= 0.00039840637450199205\n",
      "*************************\n",
      "lambda= 0.38\n",
      "iter= 2538 ,W= [57.39668971  5.47640949  1.97540752  4.1454593 ] err= 39.853554145041606 , step= 0.0003940110323089047\n",
      "*************************\n",
      "lambda= 0.39\n",
      "iter= 2566 ,W= [57.39660259  5.47290473  1.97441036  4.14829998] err= 39.85425332999504 , step= 0.0003897116134060795\n",
      "*************************\n",
      "lambda= 0.4\n",
      "iter= 2594 ,W= [57.39651547  5.46936455  1.97345438  4.15113452] err= 39.85497222619803 , step= 0.00038550501156515033\n",
      "*************************\n",
      "lambda= 0.41000000000000003\n",
      "iter= 2622 ,W= [57.39642835  5.46578797  1.9725407   4.15396285] err= 39.855711128870844 , step= 0.00038138825324180017\n",
      "*************************\n",
      "lambda= 0.42\n",
      "iter= 2651 ,W= [57.39634123  5.46224711  1.97160257  4.15677927] err= 39.85645325085464 , step= 0.0003772161448509996\n",
      "*************************\n",
      "lambda= 0.43\n",
      "iter= 2679 ,W= [57.39625411  5.45859465  1.97077702  4.15959484] err= 39.857233027331354 , step= 0.0003732736095558044\n",
      "*************************\n",
      "lambda= 0.44\n",
      "iter= 2708 ,W= [57.39616699  5.45497581  1.96992946  4.16239822] err= 39.858016546498654 , step= 0.00036927621861152144\n",
      "*************************\n",
      "lambda= 0.45\n",
      "iter= 2736 ,W= [57.39607987  5.45124328  1.96919698  4.16520052] err= 39.8588384755503 , step= 0.0003654970760233918\n",
      "*************************\n",
      "lambda= 0.46\n",
      "iter= 2765 ,W= [57.39599275  5.44754219  1.96844505  4.16799031] err= 39.85966470213742 , step= 0.0003616636528028933\n",
      "*************************\n",
      "lambda= 0.47000000000000003\n",
      "iter= 2793 ,W= [57.39590563  5.44372522  1.96781088  4.17077872] err= 39.86053013922016 , step= 0.00035803795202291446\n",
      "*************************\n",
      "lambda= 0.48\n",
      "iter= 2822 ,W= [57.39581851  5.43993743  1.96715999  4.17355421] err= 39.86140046350182 , step= 0.00035435861091424523\n",
      "*************************\n",
      "lambda= 0.49\n",
      "iter= 2851 ,W= [57.39573139  5.43610456  1.96656176  4.17632224] err= 39.8622933559772 , step= 0.00035075412136092597\n",
      "*************************\n",
      "lambda= 0.5\n",
      "iter= 2880 ,W= [57.39564427  5.43222542  1.96601767  4.17908257] err= 39.86320919604297 , step= 0.00034722222222222224\n",
      "*************************\n",
      "lambda= 0.51\n",
      "iter= 2909 ,W= [57.39555715  5.4282988   1.96552927  4.18183496] err= 39.86414837533118 , step= 0.00034376074252320387\n"
     ]
    },
    {
     "name": "stdout",
     "output_type": "stream",
     "text": [
      "*************************\n",
      "lambda= 0.52\n",
      "iter= 2938 ,W= [57.39547003  5.42432346  1.96509813  4.18457913] err= 39.865111298291545 , step= 0.0003403675970047651\n",
      "*************************\n",
      "lambda= 0.53\n",
      "iter= 2967 ,W= [57.3953829   5.42029814  1.96472591  4.18731477] err= 39.86609838280591 , step= 0.0003370407819346141\n",
      "*************************\n",
      "lambda= 0.54\n",
      "iter= 2996 ,W= [57.39529578  5.41622153  1.96441431  4.19004156] err= 39.86711006083674 , step= 0.0003337783711615487\n",
      "*************************\n",
      "lambda= 0.55\n",
      "iter= 3025 ,W= [57.39520866  5.41209231  1.9641651   4.19275915] err= 39.86814677911177 , step= 0.00033057851239669424\n",
      "*************************\n",
      "lambda= 0.56\n",
      "iter= 3055 ,W= [57.39512154  5.40798215  1.9639121   4.19546137] err= 39.8691910616505 , step= 0.0003273322422258593\n",
      "*************************\n",
      "lambda= 0.5700000000000001\n",
      "iter= 3084 ,W= [57.39503441  5.40374357  1.96379323  4.19815935] err= 39.870279191022426 , step= 0.00032425421530479895\n",
      "*************************\n",
      "lambda= 0.58\n",
      "iter= 3114 ,W= [57.39494729  5.39952119  1.96367442  4.20084109] err= 39.87137571894642 , step= 0.0003211303789338471\n",
      "*************************\n",
      "lambda= 0.59\n",
      "iter= 3143 ,W= [57.39486017  5.39516752  1.9636938   4.20351766] err= 39.87251723456259 , step= 0.0003181673560292714\n",
      "*************************\n",
      "lambda= 0.6\n",
      "iter= 3173 ,W= [57.39477304  5.39082705  1.96371742  4.20617695] err= 39.87366804654274 , step= 0.0003151591553734636\n",
      "*************************\n",
      "lambda= 0.61\n",
      "iter= 3202 ,W= [57.39468592  5.38635224  1.96388361  4.20882998] err= 39.874865069904814 , step= 0.0003123048094940662\n",
      "*************************\n",
      "lambda= 0.62\n",
      "iter= 3232 ,W= [57.3945988   5.38188747  1.96405856  4.21146452] err= 39.87607235794125 , step= 0.0003094059405940594\n",
      "*************************\n",
      "lambda= 0.63\n",
      "iter= 3262 ,W= [57.39451167  5.37735811  1.96431276  4.2140857 ] err= 39.87730872018367 , step= 0.00030656039239730225\n",
      "*************************\n",
      "lambda= 0.64\n",
      "iter= 3292 ,W= [57.39442455  5.37276247  1.96464874  4.21669277] err= 39.8785747670969 , step= 0.00030376670716889426\n",
      "*************************\n",
      "lambda= 0.65\n",
      "iter= 3321 ,W= [57.39433742  5.36802589  1.96513725  4.21929078] err= 39.87988974325992 , step= 0.00030111412225233364\n",
      "*************************\n",
      "lambda= 0.66\n",
      "iter= 3351 ,W= [57.3942503   5.36329248  1.96564485  4.2218672 ] err= 39.881217169975244 , step= 0.0002984183825723665\n",
      "*************************\n",
      "lambda= 0.67\n",
      "iter= 3381 ,W= [57.39416317  5.35848746  1.96624254  4.2244269 ] err= 39.88257626251849 , step= 0.0002957704821058858\n",
      "*************************\n",
      "lambda= 0.68\n",
      "iter= 3411 ,W= [57.39407604  5.35360893  1.96693337  4.22696886] err= 39.883967733758446 , step= 0.0002931691586045148\n",
      "*************************\n",
      "lambda= 0.6900000000000001\n",
      "iter= 3441 ,W= [57.39398892  5.34865497  1.96772053  4.22949195] err= 39.885392325351155 , step= 0.0002906131938390003\n",
      "*************************\n",
      "lambda= 0.7000000000000001\n",
      "iter= 3471 ,W= [57.39390179  5.34362357  1.9686074   4.23199492] err= 39.886850809111294 , step= 0.0002881014116969173\n",
      "*************************\n",
      "lambda= 0.71\n",
      "iter= 3501 ,W= [57.39381466  5.33851269  1.9695975   4.23447645] err= 39.88834398842171 , step= 0.00028563267637817766\n",
      "*************************\n",
      "lambda= 0.72\n",
      "iter= 3532 ,W= [57.39372754  5.33339311  1.97062641  4.23692915] err= 39.889853457494404 , step= 0.00028312570781426955\n",
      "*************************\n",
      "lambda= 0.73\n",
      "iter= 3562 ,W= [57.39364041  5.32811688  1.97183441  4.23936315] err= 39.8914184707791 , step= 0.00028074115665356543\n",
      "*************************\n",
      "lambda= 0.74\n",
      "iter= 3592 ,W= [57.39355328  5.32275466  1.97315752  4.24177079] err= 39.89302079081385 , step= 0.00027839643652561246\n",
      "*************************\n",
      "lambda= 0.75\n",
      "iter= 3622 ,W= [57.39346616  5.31730417  1.97460017  4.24415008] err= 39.89466136167192 , step= 0.0002760905577029266\n",
      "*************************\n",
      "lambda= 0.76\n",
      "iter= 3652 ,W= [57.39337903  5.31176307  1.97616707  4.24649883] err= 39.8963411661896 , step= 0.0002738225629791895\n",
      "*************************\n",
      "lambda= 0.77\n",
      "iter= 3683 ,W= [57.3932919   5.30620181  1.97779502  4.24880868] err= 39.89804146050684 , step= 0.00027151778441487917\n",
      "*************************\n",
      "lambda= 0.78\n",
      "iter= 3713 ,W= [57.39320477  5.30047222  1.97962576  4.25108877] err= 39.899802726747936 , step= 0.00026932399676811203\n",
      "*************************\n",
      "lambda= 0.79\n",
      "iter= 3743 ,W= [57.39311764  5.29464464  1.98159681  4.25333018] err= 39.9016064170373 , step= 0.0002671653753673524\n",
      "*************************\n",
      "lambda= 0.8\n",
      "iter= 3773 ,W= [57.39303051  5.28871654  1.98371429  4.25552953] err= 39.903453680805846 , step= 0.00026504108136761196\n",
      "*************************\n",
      "lambda= 0.81\n",
      "iter= 3804 ,W= [57.39294338  5.28275816  1.98591654  4.25767708] err= 39.905325470165096 , step= 0.0002628811777076761\n",
      "*************************\n",
      "lambda= 0.8200000000000001\n",
      "iter= 3834 ,W= [57.39285625  5.2766212   1.98834707  4.25978052] err= 39.90726337383885 , step= 0.0002608242044861763\n",
      "*************************\n",
      "lambda= 0.8300000000000001\n",
      "iter= 3864 ,W= [57.39276912  5.27037586  1.99094532  4.26182911] err= 39.909248555257065 , step= 0.0002587991718426501\n",
      "*************************\n",
      "lambda= 0.84\n",
      "iter= 3894 ,W= [57.39268199  5.26401953  1.99371955  4.26381744] err= 39.91128233408111 , step= 0.00025680534155110427\n",
      "*************************\n",
      "lambda= 0.85\n",
      "iter= 3924 ,W= [57.39259486  5.25754959  1.99667877  4.26573936] err= 39.91336606821916 , step= 0.00025484199796126404\n",
      "*************************\n",
      "lambda= 0.86\n",
      "iter= 3955 ,W= [57.39250773  5.25103634  1.99976459  4.26758178] err= 39.91548023599856 , step= 0.00025284450063211124\n",
      "*************************\n",
      "lambda= 0.87\n",
      "iter= 3985 ,W= [57.3924206   5.24433165  2.00312418  4.2693488 ] err= 39.917667937013434 , step= 0.0002509410288582183\n",
      "*************************\n",
      "lambda= 0.88\n",
      "iter= 4015 ,W= [57.39233347  5.23750605  2.00670115  4.27102513] err= 39.91990984018161 , step= 0.00024906600249066\n",
      "*************************\n",
      "lambda= 0.89\n",
      "iter= 4044 ,W= [57.39224634  5.23048459  2.01057678  4.27260624] err= 39.922228759464375 , step= 0.0002472799208704253\n",
      "*************************\n",
      "lambda= 0.9\n",
      "iter= 4074 ,W= [57.39215921  5.22341115  2.01462916  4.27406753] err= 39.924583555756314 , step= 0.0002454590083456063\n",
      "*************************\n",
      "lambda= 0.91\n",
      "iter= 4104 ,W= [57.39207208  5.21621148  2.01894271  4.27540064] err= 39.92699684762534 , step= 0.00024366471734892786\n",
      "*************************\n",
      "lambda= 0.92\n",
      "iter= 4133 ,W= [57.39198494  5.20881186  2.02360381  4.2765948 ] err= 39.929491847176166 , step= 0.00024195499637067505\n",
      "*************************\n",
      "lambda= 0.93\n",
      "iter= 4163 ,W= [57.39189781  5.20135785  2.02849665  4.27761765] err= 39.93202624004995 , step= 0.00024021138601969732\n",
      "*************************\n",
      "lambda= 0.9400000000000001\n",
      "iter= 4192 ,W= [57.39181068  5.19370454  2.03378102  4.27845771] err= 39.934645042083666 , step= 0.00023854961832061068\n",
      "*************************\n",
      "lambda= 0.9500000000000001\n",
      "iter= 4221 ,W= [57.39172355  5.18592689  2.03941565  4.27908029] err= 39.937327274863 , step= 0.00023691068467187872\n",
      "*************************\n",
      "lambda= 0.96\n",
      "iter= 4250 ,W= [57.39163641  5.17802869  2.0454317   4.27945092] err= 39.940073515389905 , step= 0.00023529411764705883\n",
      "*************************\n",
      "lambda= 0.97\n",
      "iter= 4278 ,W= [57.39154928  5.16994315  2.05193379  4.27953385] err= 39.942906712913285 , step= 0.0002337540906965872\n",
      "*************************\n",
      "lambda= 0.98\n",
      "iter= 4306 ,W= [57.39146215  5.1617522   2.0588969   4.27927125] err= 39.94580402225078 , step= 0.00023223409196470042\n",
      "*************************\n",
      "lambda= 0.99\n",
      "iter= 4334 ,W= [57.39137501  5.15346898  2.06637272  4.27859896] err= 39.94876420207149 , step= 0.00023073373327180433\n",
      "*************************\n",
      "lambda= 1.0\n",
      "iter= 4361 ,W= [57.39128788  5.14503931  2.07449226  4.27744245] err= 39.95180836132131 , step= 0.00022930520522815867\n"
     ]
    }
   ],
   "source": [
    "Nl=100\n",
    "res = np.zeros((4,Nl+1))\n",
    "for i in range(0,Nl+1):\n",
    "    lambda_ = 1/Nl*i\n",
    "    t = eval_model_reg_L1(X_st, y, iterations=100000, alpha=1, lambda_=lambda_, flpr=False)\n",
    "    res[0][i]=t[0]\n",
    "    res[1][i]=t[1]\n",
    "    res[2][i]=t[2]\n",
    "    res[3][i]=t[3]"
   ]
  },
  {
   "cell_type": "code",
   "execution_count": 259,
   "metadata": {},
   "outputs": [
    {
     "data": {
      "image/png": "[encoded data removed]",
      "text/plain": [
       "<Figure size 432x288 with 1 Axes>"
      ]
     },
     "metadata": {
      "needs_background": "light"
     },
     "output_type": "display_data"
    }
   ],
   "source": [
    "import matplotlib.pyplot as plt\n",
    "\n",
    "xx = np.linspace(0, 1, Nl+1)\n",
    "plt.plot(xx, res[:][0])\n",
    "plt.plot(xx, res[:][1], c='red')\n",
    "plt.xlabel('lambda')\n",
    "plt.ylabel('W0, W1')\n",
    "plt.grid(True)\n",
    "plt.show()"
   ]
  },
  {
   "cell_type": "code",
   "execution_count": 260,
   "metadata": {},
   "outputs": [
    {
     "data": {
      "image/png": "[encoded data removed]",
      "text/plain": [
       "<Figure size 432x288 with 1 Axes>"
      ]
     },
     "metadata": {
      "needs_background": "light"
     },
     "output_type": "display_data"
    }
   ],
   "source": [
    "import matplotlib.pyplot as plt\n",
    "\n",
    "xx = np.linspace(0, 1, Nl+1)\n",
    "plt.plot(xx, res[:][2])\n",
    "plt.plot(xx, res[:][3], c='red')\n",
    "plt.xlabel('lambda')\n",
    "plt.ylabel('W2, W3')\n",
    "plt.grid(True)\n",
    "plt.show()"
   ]
  },
  {
   "cell_type": "code",
   "execution_count": 261,
   "metadata": {},
   "outputs": [],
   "source": [
    "from sklearn.linear_model import LinearRegression"
   ]
  },
  {
   "cell_type": "code",
   "execution_count": 262,
   "metadata": {},
   "outputs": [],
   "source": [
    "res = np.zeros((10,4))\n",
    "for i in range(X_st.shape[1]):\n",
    "    res[i][0]=X_st[0][i]\n",
    "    res[i][1]=X_st[1][i]\n",
    "    res[i][2]=X_st[2][i]\n",
    "    res[i][3]=X_st[3][i]"
   ]
  },
  {
   "cell_type": "code",
   "execution_count": 263,
   "metadata": {},
   "outputs": [
    {
     "data": {
      "text/plain": [
       "0.7601438372192577"
      ]
     },
     "execution_count": 263,
     "metadata": {},
     "output_type": "execute_result"
    }
   ],
   "source": [
    "reg = LinearRegression().fit(res, y)\n",
    "reg.score(res, y)"
   ]
  },
  {
   "cell_type": "code",
   "execution_count": 264,
   "metadata": {},
   "outputs": [
    {
     "data": {
      "text/plain": [
       "array([0.        , 6.12241513, 1.42846588, 4.11637116])"
      ]
     },
     "execution_count": 264,
     "metadata": {},
     "output_type": "execute_result"
    }
   ],
   "source": [
    "reg.coef_"
   ]
  },
  {
   "cell_type": "code",
   "execution_count": 265,
   "metadata": {},
   "outputs": [
    {
     "data": {
      "text/plain": [
       "57.4"
      ]
     },
     "execution_count": 265,
     "metadata": {},
     "output_type": "execute_result"
    }
   ],
   "source": [
    "reg.intercept_"
   ]
  },
  {
   "cell_type": "code",
   "execution_count": 266,
   "metadata": {},
   "outputs": [
    {
     "data": {
      "text/plain": [
       "Ridge(alpha=1.0, copy_X=True, fit_intercept=True, max_iter=None,\n",
       "      normalize=False, random_state=None, solver='auto', tol=0.001)"
      ]
     },
     "execution_count": 266,
     "metadata": {},
     "output_type": "execute_result"
    }
   ],
   "source": [
    "from sklearn.linear_model import Ridge\n",
    "clf = Ridge(alpha=1)\n",
    "clf.fit(res, y)\n",
    "Ridge()"
   ]
  },
  {
   "cell_type": "code",
   "execution_count": 267,
   "metadata": {},
   "outputs": [],
   "source": [
    "c= clf.predict(res)"
   ]
  },
  {
   "cell_type": "code",
   "execution_count": 268,
   "metadata": {},
   "outputs": [
    {
     "data": {
      "text/plain": [
       "40.21134465775569"
      ]
     },
     "execution_count": 268,
     "metadata": {},
     "output_type": "execute_result"
    }
   ],
   "source": [
    "calc_mse(y, c)"
   ]
  },
  {
   "cell_type": "code",
   "execution_count": null,
   "metadata": {},
   "outputs": [],
   "source": []
  }
 ],
 "metadata": {
  "colab": {
   "collapsed_sections": [],
   "name": "Lesson2.ipynb",
   "provenance": []
  },
  "kernelspec": {
   "display_name": "Python 3",
   "language": "python",
   "name": "python3"
  },
  "language_info": {
   "codemirror_mode": {
    "name": "ipython",
    "version": 3
   },
   "file_extension": ".py",
   "mimetype": "text/x-python",
   "name": "python",
   "nbconvert_exporter": "python",
   "pygments_lexer": "ipython3",
   "version": "3.7.4"
  }
 },
 "nbformat": 4,
 "nbformat_minor": 1
}
