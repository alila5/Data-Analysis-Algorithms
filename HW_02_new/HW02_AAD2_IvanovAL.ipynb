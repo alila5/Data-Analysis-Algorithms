{
 "cells": [
  {
   "cell_type": "code",
   "execution_count": 127,
   "metadata": {
    "colab": {},
    "colab_type": "code",
    "id": "_u5bV-OlT34p"
   },
   "outputs": [],
   "source": [
    "import numpy as np\n",
    "import matplotlib.pyplot as plt"
   ]
  },
  {
   "cell_type": "code",
   "execution_count": 128,
   "metadata": {
    "colab": {},
    "colab_type": "code",
    "id": "x8yoci01ni-t"
   },
   "outputs": [],
   "source": [
    "y = [45, 55, 50, 55, 60, 35, 75, 80, 50, 60]"
   ]
  },
  {
   "cell_type": "code",
   "execution_count": 129,
   "metadata": {},
   "outputs": [],
   "source": [
    "X = np.array( [[1, 1, 2, 5, 3, 0, 5, 10, 1, 2],\n",
    "              [500, 700, 750, 600, 1450, 800, 1500, 2000, 450, 1000],\n",
    "              [1, 1, 2, 1, 2, 1, 3, 3, 1, 2]])"
   ]
  },
  {
   "cell_type": "code",
   "execution_count": 130,
   "metadata": {},
   "outputs": [],
   "source": [
    "y = [45, 55, 50, 55, 60, 35, 75, 80, 50, 60]"
   ]
  },
  {
   "cell_type": "code",
   "execution_count": 131,
   "metadata": {},
   "outputs": [],
   "source": [
    "def standardization(z):\n",
    "    return (z - z.mean(axis=0)) / z.std(axis=0)"
   ]
  },
  {
   "cell_type": "code",
   "execution_count": 132,
   "metadata": {},
   "outputs": [],
   "source": [
    "#sklern.StandartScaler() #Стандартизайия\n",
    "#sklern.MinMaxScaler() #Нормализация"
   ]
  },
  {
   "cell_type": "code",
   "execution_count": 133,
   "metadata": {
    "colab": {},
    "colab_type": "code",
    "id": "6PlDlFY0hGZA"
   },
   "outputs": [],
   "source": [
    "X_st = standardization(X.T)"
   ]
  },
  {
   "cell_type": "code",
   "execution_count": 134,
   "metadata": {},
   "outputs": [
    {
     "data": {
      "text/plain": [
       "array([1., 1., 1., 1., 1., 1., 1., 1., 1., 1.])"
      ]
     },
     "execution_count": 134,
     "metadata": {},
     "output_type": "execute_result"
    }
   ],
   "source": [
    "ones = np.ones((len(X_st),))\n",
    "ones"
   ]
  },
  {
   "cell_type": "code",
   "execution_count": 135,
   "metadata": {},
   "outputs": [
    {
     "data": {
      "text/plain": [
       "array([[ 1.        ,  1.        ,  1.        ,  1.        ,  1.        ,\n",
       "         1.        ,  1.        ,  1.        ,  1.        ,  1.        ],\n",
       "       [-0.70710678, -0.70710678, -0.35355339,  0.70710678,  0.        ,\n",
       "        -1.06066017,  0.70710678,  2.47487373, -0.70710678, -0.35355339],\n",
       "       [-0.97958969, -0.56713087, -0.46401617, -0.77336028,  0.97958969,\n",
       "        -0.36090146,  1.08270439,  2.11385144, -1.08270439,  0.05155735],\n",
       "       [-0.89625816, -0.89625816,  0.38411064, -0.89625816,  0.38411064,\n",
       "        -0.89625816,  1.66447944,  1.66447944, -0.89625816,  0.38411064]])"
      ]
     },
     "execution_count": 135,
     "metadata": {},
     "output_type": "execute_result"
    }
   ],
   "source": [
    "X_st= np.row_stack((ones, X_st.T))\n",
    "X_st"
   ]
  },
  {
   "cell_type": "code",
   "execution_count": 136,
   "metadata": {
    "colab": {},
    "colab_type": "code",
    "id": "UdGy9tjVhZol"
   },
   "outputs": [],
   "source": [
    "# SGD"
   ]
  },
  {
   "cell_type": "code",
   "execution_count": 145,
   "metadata": {
    "colab": {},
    "colab_type": "code",
    "id": "VDpN7UxYnrcS"
   },
   "outputs": [],
   "source": [
    "def calc_mse(y, y_pred):\n",
    "    err = np.mean((y - y_pred)**2)\n",
    "    return err"
   ]
  },
  {
   "cell_type": "code",
   "execution_count": 146,
   "metadata": {
    "colab": {},
    "colab_type": "code",
    "id": "SgEyis2zlJeb"
   },
   "outputs": [],
   "source": [
    "def eval_model(X, y, iterations, alpha=1e-4):\n",
    "    W = np.random.randn(X.shape[0])\n",
    "    n = X.shape[1]\n",
    "    for i in range(1, iterations+1):\n",
    "        y_pred = np.dot(W, X)\n",
    "        err = calc_mse(y, y_pred)\n",
    "        W -= (alpha * (1/n * 2 * np.dot((y_pred - y), X.T)))\n",
    "        if i % (iterations / 10) == 0:\n",
    "            print(i, W, err)\n",
    "    return W"
   ]
  },
  {
   "cell_type": "code",
   "execution_count": 147,
   "metadata": {
    "colab": {
     "base_uri": "https://localhost:8080/",
     "height": 207
    },
    "colab_type": "code",
    "id": "4nsYMAGjmFlB",
    "outputId": "71a5878c-8bcd-4d73-9f43-2df2b94ecd81"
   },
   "outputs": [
    {
     "name": "stdout",
     "output_type": "stream",
     "text": [
      "100 [48.86652884  5.52536331  3.90856643  2.90906919] 88.88494730268947\n",
      "200 [55.48765244  5.64556606  3.14268117  3.61907742] 28.165883354120247\n",
      "300 [56.36574292  5.74818168  2.50195043  4.17681309] 26.38055979607531\n",
      "400 [56.48219489  5.84028054  1.97692232  4.62603758] 25.872979919709017\n",
      "500 [56.49763869  5.92004756  1.54746301  4.98926744] 25.547800220141553\n",
      "600 [56.49968684  5.98765976  1.19656892  5.28372541] 25.331983284192596\n",
      "700 [56.49995847  6.04420352  0.91008303  5.52285556] 25.188593816444207\n",
      "800 [56.49999449  6.09108441  0.67630167  5.71728864] 25.093317076403043\n",
      "900 [56.49999927  6.12973516  0.48559426  5.87550929] 25.030007530192762\n",
      "1000 [56.4999999   6.161482    0.33006053  6.00433388] 24.987939013768642\n"
     ]
    },
    {
     "data": {
      "text/plain": [
       "array([56.4999999 ,  6.161482  ,  0.33006053,  6.00433388])"
      ]
     },
     "execution_count": 147,
     "metadata": {},
     "output_type": "execute_result"
    }
   ],
   "source": [
    "eval_model(X_st, y, iterations=1000, alpha=1e-2)"
   ]
  },
  {
   "cell_type": "code",
   "execution_count": 148,
   "metadata": {
    "colab": {},
    "colab_type": "code",
    "id": "nCcMmNdQmxDp"
   },
   "outputs": [],
   "source": [
    "def eval_sgd_model(X, y, iterations, qty_in_batch, alpha=1e-4):\n",
    "    W = np.random.randn(X.shape[0])\n",
    "    n = X.shape[1]\n",
    "    n_batch = n // qty_in_batch\n",
    "    \n",
    "    if n % qty_in_batch != 0:\n",
    "        n_batch += 1\n",
    "        \n",
    "    for i in range(1, iterations+1):\n",
    "        for b in range(n_batch):\n",
    "            start_ = qty_in_batch*b\n",
    "            end_ = qty_in_batch*(b+1)\n",
    "#             print(b, n_batch, start_, end_)\n",
    "            X_tmp = X[:, start_ : end_]\n",
    "            y_tmp = y[start_ : end_]\n",
    "\n",
    "            y_pred_tmp = np.dot(W, X_tmp)\n",
    "            err = calc_mse(y_tmp, y_pred_tmp)\n",
    "\n",
    "            W -= (alpha * (1/n * 2 * np.dot((y_pred_tmp - y_tmp), X_tmp.T)))\n",
    "        \n",
    "        if i % (iterations / 10) == 0:\n",
    "            print(i, W, err)\n",
    "    return W"
   ]
  },
  {
   "cell_type": "code",
   "execution_count": 149,
   "metadata": {
    "colab": {
     "base_uri": "https://localhost:8080/",
     "height": 207
    },
    "colab_type": "code",
    "id": "2aXap4Vsm3GV",
    "outputId": "af0f4e17-d075-47e7-c848-44c637dadb67"
   },
   "outputs": [
    {
     "name": "stdout",
     "output_type": "stream",
     "text": [
      "1000 [56.50236216  6.1792197   0.26509073  6.07016856] 26.603018382936476\n",
      "2000 [56.50215302  6.2955465  -0.27902576  6.51497982] 24.649711618211935\n",
      "3000 [56.50212624  6.31004927 -0.34934716  6.57297528] 24.40197635851026\n",
      "4000 [56.50212277  6.31192692 -0.35845832  6.58049077] 24.36997399628664\n",
      "5000 [56.50212232  6.31217021 -0.35963887  6.58146457] 24.365829054687786\n",
      "6000 [56.50212226  6.31220173 -0.35979183  6.58159074] 24.36529201695758\n",
      "7000 [56.50212225  6.31220582 -0.35981165  6.58160709] 24.36522243275461\n",
      "8000 [56.50212225  6.31220635 -0.35981422  6.58160921] 24.36521341664797\n",
      "9000 [56.50212225  6.31220641 -0.35981455  6.58160948] 24.3652122484197\n",
      "10000 [56.50212225  6.31220642 -0.35981459  6.58160952] 24.365212097050783\n"
     ]
    },
    {
     "data": {
      "text/plain": [
       "array([56.50212225,  6.31220642, -0.35981459,  6.58160952])"
      ]
     },
     "execution_count": 149,
     "metadata": {},
     "output_type": "execute_result"
    }
   ],
   "source": [
    "eval_sgd_model(X_st, y, iterations=10000, qty_in_batch=5, alpha=1e-2)"
   ]
  },
  {
   "cell_type": "code",
   "execution_count": 150,
   "metadata": {
    "colab": {},
    "colab_type": "code",
    "id": "DYTxT_6OrZpe"
   },
   "outputs": [],
   "source": [
    "# L1 регуляризация - Lasso"
   ]
  },
  {
   "cell_type": "code",
   "execution_count": 151,
   "metadata": {
    "colab": {},
    "colab_type": "code",
    "id": "Ojkn7xKrsyiw"
   },
   "outputs": [],
   "source": [
    "#f(x, W) + (lambda_/2) * np.sum(np.abs(W))"
   ]
  },
  {
   "cell_type": "code",
   "execution_count": 152,
   "metadata": {
    "colab": {},
    "colab_type": "code",
    "id": "j38vId7Hvtg0"
   },
   "outputs": [],
   "source": [
    "# L2 регуляризация - Ridge"
   ]
  },
  {
   "cell_type": "code",
   "execution_count": 153,
   "metadata": {
    "colab": {},
    "colab_type": "code",
    "id": "KO5BtZ7svv4k"
   },
   "outputs": [],
   "source": [
    "#f(x, W) + (lambda_/2) * np.sum(W**2)"
   ]
  },
  {
   "cell_type": "code",
   "execution_count": 154,
   "metadata": {
    "colab": {},
    "colab_type": "code",
    "id": "VhcEvi875yD4"
   },
   "outputs": [],
   "source": [
    "#df/dw1 = d(w1**2 + w2**2 + w3**2) / dw1 = 2*w1 + 0 + 0 = 2*w1"
   ]
  },
  {
   "cell_type": "code",
   "execution_count": 155,
   "metadata": {
    "colab": {},
    "colab_type": "code",
    "id": "PKmpPziCv3IC"
   },
   "outputs": [],
   "source": [
    "#f'(x, W) + lambda_ * np.sum(W)"
   ]
  },
  {
   "cell_type": "code",
   "execution_count": 233,
   "metadata": {
    "colab": {},
    "colab_type": "code",
    "id": "7AVoe1Mswjni"
   },
   "outputs": [],
   "source": [
    "def eval_model_reg2(X, y, iterations, alpha=1e-4, lambda_=1e-8, flpr=False):\n",
    "    np.random.seed(42)\n",
    "    W = np.random.randn(X.shape[0])\n",
    "    n = X.shape[1]\n",
    "    for i in range(1, iterations+1):\n",
    "        W_old = np.copy(W)\n",
    "        y_pred = np.dot(W_old, X)\n",
    "        err = calc_mse(y, y_pred)\n",
    "        W -= alpha * (1/n * 2 * np.dot((y_pred - y), X.T) + lambda_ * W_old) \n",
    "        if i % (iterations / 10) == 0:\n",
    "            if flpr:\n",
    "                print(i, W, err)\n",
    "        #print(np.sum((W-W_old)**2))\n",
    "        #if np.sum((W-W_old)**2)<lambda_:\n",
    "         #   break\n",
    "        #print(abs(err_old-err))\n",
    "       # if np.sum((W-W_old)**2)<1e-8:\n",
    "        #    print('*'*25)\n",
    "       #     print('lambda=',lambda_) \n",
    "       #     print('iter=',i, ',W=', W, 'err=', err)\n",
    "       #     break\n",
    "    return W"
   ]
  },
  {
   "cell_type": "code",
   "execution_count": 234,
   "metadata": {
    "colab": {
     "base_uri": "https://localhost:8080/",
     "height": 207
    },
    "colab_type": "code",
    "id": "vLJL6j8Lw6OA",
    "outputId": "84591f9f-2c7d-42fc-f2e2-5d2614be6113"
   },
   "outputs": [
    {
     "name": "stdout",
     "output_type": "stream",
     "text": [
      "500 [56.49487895  5.89947315  1.04054601  5.5270874 ] 25.23755832331096\n",
      "1000 [56.49717505  6.19501568  0.13564839  6.17098435] 24.947089650389493\n",
      "1500 [56.49717514  6.26565597 -0.17868956  6.42516923] 24.910200887020064\n",
      "2000 [56.49717514  6.28924463 -0.29120292  6.51776763] 24.905377672807827\n",
      "2500 [56.49717514  6.29763759 -0.33165155  6.55113988] 24.904735047224676\n",
      "3000 [56.49717514  6.30065228 -0.3462019   6.56314895] 24.904645262343745\n",
      "3500 [56.49717514  6.3017366  -0.35143648  6.56746949] 24.904631263168568\n",
      "4000 [56.49717514  6.30212668 -0.35331967  6.56902387] 24.904628595590758\n",
      "4500 [56.49717514  6.30226702 -0.35399717  6.56958307] 24.904627942486606\n",
      "5000 [56.49717514  6.30231751 -0.35424091  6.56978425] 24.904627747206018\n"
     ]
    },
    {
     "data": {
      "text/plain": [
       "array([56.49717514,  6.30231751, -0.35424091,  6.56978425])"
      ]
     },
     "execution_count": 234,
     "metadata": {},
     "output_type": "execute_result"
    }
   ],
   "source": [
    "eval_model_reg2(X_st, y, iterations=5000, alpha=1e-2, lambda_=1e-4, flpr=True)"
   ]
  },
  {
   "cell_type": "code",
   "execution_count": 236,
   "metadata": {},
   "outputs": [
    {
     "name": "stdout",
     "output_type": "stream",
     "text": [
      "*************************\n",
      "500 [37.66665763  4.01081477  2.67423794  3.68717427] 385.46505506599726\n",
      "1000 [37.66666667  4.01145633  2.67325056  3.68757284] 385.4632813580281\n",
      "1500 [37.66666667  4.01145689  2.67324854  3.68757437] 385.4632788348622\n",
      "2000 [37.66666667  4.01145689  2.67324854  3.68757438] 385.46327882921975\n",
      "2500 [37.66666667  4.01145689  2.67324854  3.68757438] 385.4632788292066\n",
      "3000 [37.66666667  4.01145689  2.67324854  3.68757438] 385.4632788292066\n",
      "3500 [37.66666667  4.01145689  2.67324854  3.68757438] 385.4632788292066\n",
      "4000 [37.66666667  4.01145689  2.67324854  3.68757438] 385.4632788292066\n",
      "4500 [37.66666667  4.01145689  2.67324854  3.68757438] 385.4632788292066\n",
      "5000 [37.66666667  4.01145689  2.67324854  3.68757438] 385.4632788292066\n",
      "W= [37.66666667  4.01145689  2.67324854  3.68757438]\n",
      "*************************\n",
      "500 [53.80821107  5.55425006  1.53274869  5.12255487] 32.85607708560639\n",
      "1000 [53.80952378  5.70466966  1.09946397  5.42237988] 32.59016846471511\n",
      "1500 [53.80952381  5.72532537  1.00880545  5.49542065] 32.54458841197802\n",
      "2000 [53.80952381  5.7294535   0.98915646  5.51158348] 32.53510515825502\n",
      "2500 [53.80952381  5.73034197  0.98487589  5.51511492] 32.53305784034792\n",
      "3000 [53.80952381  5.73053533  0.98394268  5.51588514] 32.53261237960693\n",
      "3500 [53.80952381  5.73057748  0.9837392   5.51605308] 32.532515295528626\n",
      "4000 [53.80952381  5.73058667  0.98369484  5.5160897 ] 32.53249412956087\n",
      "4500 [53.80952381  5.73058868  0.98368517  5.51609768] 32.532489514678176\n",
      "5000 [53.80952381  5.73058911  0.98368306  5.51609942] 32.53248850846462\n",
      "W= [53.80952381  5.73058911  0.98368306  5.51609942]\n",
      "*************************\n",
      "500 [56.21673324  5.8620134   1.0973114   5.48152978] 25.34927695273097\n",
      "1000 [56.21890539  6.13817008  0.25676075  6.07808629] 25.050567809213142\n",
      "1500 [ 5.62189055e+01  6.20065670e+00 -2.09333286e-02  6.30256226e+00] 25.004260655449038\n",
      "2000 [56.21890547  6.2204893  -0.11551226  6.3803969 ] 24.994635922546014\n",
      "2500 [56.21890547  6.22720312 -0.14786762  6.4070916 ] 24.992067956776946\n",
      "3000 [56.21890547  6.22949791 -0.15894336  6.4162329 ] 24.99127390893935\n",
      "3500 [56.21890547  6.23028335 -0.16273509  6.41936254] 24.99101203395977\n",
      "4000 [56.21890547  6.23055224 -0.16403319  6.42043399] 24.9909235488047\n",
      "4500 [56.21890547  6.23064429 -0.1644776   6.4208008 ] 24.99089339269804\n",
      "5000 [56.21890547  6.23067581 -0.16462974  6.42092637] 24.990883084763954\n",
      "W= [56.21890547  6.23067581 -0.16462974  6.42092637]\n",
      "*************************\n",
      "500 [56.46947948  5.89603517  1.04578828  5.52288952] 25.24126558336003\n",
      "1000 [56.47176402  6.18975799  0.14694504  6.16232813] 24.94987784123937\n",
      "1500 [56.47176412  6.25961451 -0.16386869  6.41365538] 24.911966052128896\n",
      "2000 [56.47176412  6.28283401 -0.27461922  6.50480257] 24.90660455598175\n",
      "2500 [56.47176412  6.29105831 -0.31425494  6.53750411] 24.905737174207687\n",
      "3000 [56.47176412  6.29399911 -0.32844872  6.54921888] 24.905561548161156\n",
      "3500 [56.47176412  6.29505211 -0.33353204  6.55341458] 24.905515966701408\n",
      "4000 [56.47176412  6.29542922 -0.33535259  6.55491725] 24.90550186327176\n",
      "4500 [56.47176412  6.29556427 -0.33600461  6.55545542] 24.905497097139076\n",
      "5000 [56.47176412  6.29561264 -0.33623812  6.55564816] 24.905495426727477\n",
      "W= [56.47176412  6.29561264 -0.33623812  6.55564816]\n",
      "*************************\n",
      "500 [56.49487895  5.89947315  1.04054601  5.5270874 ] 25.23755832331096\n",
      "1000 [56.49717505  6.19501568  0.13564839  6.17098435] 24.947089650389493\n",
      "1500 [56.49717514  6.26565597 -0.17868956  6.42516923] 24.910200887020064\n",
      "2000 [56.49717514  6.28924463 -0.29120292  6.51776763] 24.905377672807827\n",
      "2500 [56.49717514  6.29763759 -0.33165155  6.55113988] 24.904735047224676\n",
      "3000 [56.49717514  6.30065228 -0.3462019   6.56314895] 24.904645262343745\n",
      "3500 [56.49717514  6.3017366  -0.35143648  6.56746949] 24.904631263168568\n",
      "4000 [56.49717514  6.30212668 -0.35331967  6.56902387] 24.904628595590758\n",
      "4500 [56.49717514  6.30226702 -0.35399717  6.56958307] 24.904627942486606\n",
      "5000 [56.49717514  6.30231751 -0.35424091  6.56978425] 24.904627747206018\n",
      "W= [56.49717514  6.30231751 -0.35424091  6.56978425]\n",
      "*************************\n",
      "500 [56.49742015  5.89981731  1.04002088  5.52750782] 25.23725925553023\n",
      "1000 [56.49971741  6.19554246  0.1345155   6.17185235] 24.946884474315066\n",
      "1500 [56.4997175   6.26626162 -0.18017709  6.42632479] 24.910100012607888\n",
      "2000 [56.4997175   6.28988752 -0.29286827  6.51906958] 24.90533187773378\n",
      "2500 [56.4997175   6.29829753 -0.33339911  6.55250966] 24.90471235452016\n",
      "3000 [56.4997175   6.3013197  -0.34798561  6.56454856] 24.904631435564106\n",
      "3500 [56.4997175   6.30240721 -0.35323555  6.56888179] 24.90462071433124\n",
      "4000 [56.4997175   6.30279862 -0.35512513  6.57044143] 24.90461923957473\n",
      "4500 [56.4997175   6.30293949 -0.35580523  6.57100279] 24.90461901761903\n",
      "5000 [56.4997175   6.3029902  -0.35605002  6.57120483] 24.9046189777411\n",
      "W= [56.4997175   6.3029902  -0.35605002  6.57120483]\n",
      "*************************\n",
      "500 [56.49767428  5.89985173  1.03996835  5.52754986] 25.23723006605946\n",
      "1000 [56.49997166  6.19559515  0.13440218  6.17193917] 24.94686469398284\n",
      "1500 [56.49997175  6.26632219 -0.18032589  6.42644039] 24.91009068260664\n",
      "2000 [56.49997175  6.28995182 -0.29303488  6.51919983] 24.90532806831963\n",
      "2500 [56.49997175  6.29836354 -0.33357394  6.5526467 ] 24.904710861698007\n",
      "3000 [56.49997175  6.30138647 -0.34816406  6.56468858] 24.904630832199164\n",
      "3500 [56.49997175  6.30247429 -0.35341555  6.56902309] 24.904620439980555\n",
      "4000 [56.49997175  6.30286583 -0.35530576  6.57058326] 24.904619085009166\n",
      "4500 [56.49997175  6.30300676 -0.35598613  6.57114483] 24.904618906371546\n",
      "5000 [56.49997175  6.30305749 -0.35623102  6.57134696] 24.90461888211491\n",
      "W= [56.49997175  6.30305749 -0.35623102  6.57134696]\n",
      "*************************\n",
      "500 [56.4976997   5.89985517  1.0399631   5.52755407] 25.23722715428617\n",
      "1000 [56.49999708  6.19560042  0.13439084  6.17194785] 24.94686272332321\n",
      "1500 [56.49999717  6.26632825 -0.18034077  6.42645195] 24.91008975718195\n",
      "2000 [56.49999717  6.28995825 -0.29305154  6.51921285] 24.905327695080324\n",
      "2500 [56.49999717  6.29837014 -0.33359143  6.55266041] 24.904710720181527\n",
      "3000 [56.49999717  6.30139314 -0.34818191  6.56470259] 24.90463077965709\n",
      "3500 [56.49999717  6.302481   -0.35343355  6.56903722] 24.904620420352114\n",
      "4000 [56.49999717  6.30287255 -0.35532383  6.57059744] 24.9046190773643\n",
      "4500 [56.49999717  6.30301349 -0.35600422  6.57115903] 24.90461890306053\n",
      "5000 [56.49999717  6.30306422 -0.35624912  6.57136117] 24.90461888036681\n",
      "W= [56.49999717  6.30306422 -0.35624912  6.57136117]\n",
      "*************************\n",
      "500 [56.49770224  5.89985551  1.03996258  5.52755449] 25.237226863180595\n",
      "1000 [56.49999962  6.19560095  0.13438971  6.17194872] 24.946862526330975\n",
      "1500 [56.49999972  6.26632886 -0.18034226  6.4264531 ] 24.910089664715237\n",
      "2000 [56.49999972  6.2899589  -0.2930532   6.51921415] 24.90532765783341\n",
      "2500 [56.49999972  6.2983708  -0.33359317  6.55266178] 24.904710706107537\n",
      "3000 [56.49999972  6.30139381 -0.34818369  6.56470399] 24.90463077448081\n",
      "3500 [56.49999972  6.30248167 -0.35343535  6.56903863] 24.904620418467363\n",
      "4000 [56.49999972  6.30287322 -0.35532563  6.57059886] 24.90461907667794\n",
      "4500 [56.49999972  6.30301416 -0.35600602  6.57116045] 24.904618902807584\n",
      "5000 [56.49999972  6.30306489 -0.35625093  6.57136259] 24.904618880270178\n",
      "W= [56.49999972  6.30306489 -0.35625093  6.57136259]\n",
      "*************************\n",
      "500 [56.49770249  5.89985555  1.03996252  5.52755453] 25.237226834070754\n",
      "1000 [56.49999988  6.195601    0.1343896   6.17194881] 24.946862506632492\n",
      "1500 [56.49999997  6.26632892 -0.18034241  6.42645322] 24.91008965546932\n",
      "2000 [56.49999997  6.28995896 -0.29305337  6.51921428] 24.905327654109495\n",
      "2500 [56.49999997  6.29837087 -0.33359335  6.55266191] 24.904710704700925\n",
      "3000 [56.49999997  6.30139388 -0.34818387  6.56470413] 24.904630773963973\n",
      "3500 [56.49999997  6.30248174 -0.35343553  6.56903878] 24.904620418279656\n",
      "4000 [56.49999997  6.30287329 -0.35532581  6.570599  ] 24.9046190766101\n",
      "4500 [56.49999997  6.30301423 -0.35600621  6.57116059] 24.90461890278307\n",
      "5000 [56.49999997  6.30306496 -0.35625111  6.57136273] 24.904618880261275\n",
      "W= [56.49999997  6.30306496 -0.35625111  6.57136273]\n"
     ]
    }
   ],
   "source": [
    "Nl=10\n",
    "start_lambda = 1\n",
    "res = np.zeros((5,Nl))\n",
    "for i in range(0,Nl):\n",
    "    print('*'*25)\n",
    "    lambda_ = start_lambda/10**i\n",
    "    t = eval_model_reg2(X_st, y, iterations=5000, alpha=1e-2, lambda_=lambda_, flpr=True)\n",
    "    print('W=', t)\n",
    "    res[4][i] = lambda_\n",
    "    res[0][i]=t[0]\n",
    "    res[1][i]=t[1]\n",
    "    res[2][i]=t[2]\n",
    "    res[3][i]=t[3]\n"
   ]
  },
  {
   "cell_type": "markdown",
   "metadata": {},
   "source": [
    "### Задание 1.\n",
    "Постройте график зависимости весов всех признаков от lambda в L2-регуляризации (на данных из урока). Сделайте вывод"
   ]
  },
  {
   "cell_type": "code",
   "execution_count": 237,
   "metadata": {},
   "outputs": [
    {
     "data": {
      "image/png": "[encoded data removed]",
      "text/plain": [
       "<Figure size 432x288 with 1 Axes>"
      ]
     },
     "metadata": {
      "needs_background": "light"
     },
     "output_type": "display_data"
    }
   ],
   "source": [
    "import matplotlib.pyplot as plt\n",
    "\n",
    "plt.plot(res[:][4], res[:][0])\n",
    "plt.plot(res[:][4], res[:][1], c='red')\n",
    "plt.xlabel('lambda')\n",
    "plt.ylabel('W0, W1')\n",
    "plt.grid(True)\n",
    "plt.show()"
   ]
  },
  {
   "cell_type": "code",
   "execution_count": 238,
   "metadata": {},
   "outputs": [
    {
     "data": {
      "image/png": "[encoded data removed]",
      "text/plain": [
       "<Figure size 432x288 with 1 Axes>"
      ]
     },
     "metadata": {
      "needs_background": "light"
     },
     "output_type": "display_data"
    }
   ],
   "source": [
    "import matplotlib.pyplot as plt\n",
    "\n",
    "\n",
    "plt.plot(res[:][4], res[:][2])\n",
    "plt.plot(res[:][4], res[:][3], c='red')\n",
    "plt.xlabel('lambda')\n",
    "plt.ylabel('W2, W3')\n",
    "plt.grid(True)\n",
    "plt.show()"
   ]
  },
  {
   "cell_type": "markdown",
   "metadata": {},
   "source": [
    "## 2. Можно ли к одному и тому же признаку применить сразу и нормализацию, и стандартизацию?"
   ]
  },
  {
   "cell_type": "markdown",
   "metadata": {},
   "source": [
    "Нет, одновременно делать стандартизацию и нормализацию смысла нет. Оба подхода делают одно и то же, но делают это немного по-разному."
   ]
  },
  {
   "cell_type": "markdown",
   "metadata": {},
   "source": [
    "## 3*. Напишите функцию наподобие eval_model_reg2, но для применения L1-регуляризации."
   ]
  },
  {
   "cell_type": "code",
   "execution_count": 257,
   "metadata": {},
   "outputs": [],
   "source": [
    "def eval_model_reg_L1(X, y, iterations, alpha=1e-4, lambda_=1e-8, flpr=False):\n",
    "    np.random.seed(42)\n",
    "    W = np.random.randn(X.shape[0])\n",
    "    n = X.shape[1]\n",
    "    err = 1\n",
    "    for i in range(1, iterations+1):\n",
    "        W_old = np.copy(W)\n",
    "        y_pred = np.dot(W_old, X)\n",
    "        err_old = err\n",
    "        err = calc_mse(y, y_pred)\n",
    "        W -= alpha * (1/n * 2 * np.dot((y_pred - y), X.T) + lambda_ * np.sign(W_old))\n",
    "        if i % 100 == 0:\n",
    "            if flpr:\n",
    "                print(i, W, err)\n",
    "        #print(np.sum((W-W_old)**2))\n",
    "        #if np.sum((W-W_old)**2)<lambda_:\n",
    "         #   break\n",
    "        #print(abs(err_old-err))\n",
    "        if np.sum((W-W_old)**2)<1e-8:\n",
    "            print('*'*25)\n",
    "            print('lambda=',lambda_) \n",
    "            print('iter=',i, ',W=', W, 'err=', err,', step=',alpha )\n",
    "            break\n",
    "    return W"
   ]
  },
  {
   "cell_type": "code",
   "execution_count": 258,
   "metadata": {},
   "outputs": [
    {
     "name": "stdout",
     "output_type": "stream",
     "text": [
      "100 [49.07282573  4.33534179  3.11544612  4.84688774] 84.79267138779288\n",
      "200 [55.51496808  5.05803012  2.37858115  4.96027298] 27.262223151382546\n",
      "300 [56.36932213  5.47930795  1.81310511  5.1374563 ] 25.732547770763755\n",
      "400 [56.48262619  5.7370157   1.37898535  5.33591303] 25.417350201986523\n",
      "500 [56.49765252  5.89983016  1.03995035  5.52753399] 25.23723048428871\n",
      "600 [56.49964531  6.00647194  0.77177228  5.70020668] 25.123231232996492\n",
      "700 [56.49990959  6.07901171  0.55768297  5.85005203] 25.049154487124976\n",
      "800 [56.49994464  6.1302024   0.38565901  5.9772161 ] 25.00043982712213\n",
      "900 [56.49994929  6.16754916  0.24680736  6.08364349] 24.968224053651003\n",
      "1000 [56.49994991  6.19557479  0.13437972  6.1719267 ] 24.946863925110584\n",
      "1100 [5.64999500e+01 6.21708595e+00 4.31516180e-02 6.24473494e+00] 24.932684514488546\n",
      "1200 [ 5.64999500e+01  6.23386982e+00 -3.09168861e-02  6.30453282e+00] 24.92327217976064\n",
      "1300 [56.49995     6.24711422 -0.09111651  6.3534868 ] 24.917023342459753\n",
      "1400 [56.49995     6.25769184 -0.14012187  6.39352897] 24.912869560999923\n",
      "1500 [56.49995     6.26619417 -0.18003166  6.42624591] 24.910108007836477\n",
      "1600 [56.49995     6.27305867 -0.21254395  6.45295755] 24.908271780179213\n",
      "1700 [56.49995     6.27861778 -0.23903539  6.4747551 ] 24.907050628573806\n",
      "1800 [56.49995     6.28312919 -0.26062399  6.49253649] 24.90623836910525\n",
      "1900 [56.49995     6.28679559 -0.27821879  6.50703832] 24.905697964659105\n",
      "2000 [56.49995     6.28977817 -0.29255956  6.51886362] 24.905338328495585\n",
      "2100 [56.49995     6.29220608 -0.3042486   6.52850534] 24.905098911712876\n",
      "2200 [56.49995     6.29418336 -0.31377654  6.53636614] 24.90493946151417\n",
      "*************************\n",
      "lambda= 0.0001\n",
      "iter= 2260 ,W= [56.49995     6.29518912 -0.31862549  6.54036715] err= 24.904870628350867 , step= 0.01\n"
     ]
    },
    {
     "data": {
      "text/plain": [
       "array([56.49995   ,  6.29518912, -0.31862549,  6.54036715])"
      ]
     },
     "execution_count": 258,
     "metadata": {},
     "output_type": "execute_result"
    }
   ],
   "source": [
    "eval_model_reg_L1(X_st, y, iterations=10000, alpha=1e-2, lambda_=1e-4, flpr=True)"
   ]
  },
  {
   "cell_type": "code",
   "execution_count": 259,
   "metadata": {},
   "outputs": [
    {
     "name": "stdout",
     "output_type": "stream",
     "text": [
      "*************************\n",
      "500 [37.66665763  4.01081477  2.67423794  3.68717427] 385.46505506599726\n",
      "1000 [37.66666667  4.01145633  2.67325056  3.68757284] 385.4632813580281\n",
      "1500 [37.66666667  4.01145689  2.67324854  3.68757437] 385.4632788348622\n",
      "2000 [37.66666667  4.01145689  2.67324854  3.68757438] 385.46327882921975\n",
      "2500 [37.66666667  4.01145689  2.67324854  3.68757438] 385.4632788292066\n",
      "3000 [37.66666667  4.01145689  2.67324854  3.68757438] 385.4632788292066\n",
      "3500 [37.66666667  4.01145689  2.67324854  3.68757438] 385.4632788292066\n",
      "4000 [37.66666667  4.01145689  2.67324854  3.68757438] 385.4632788292066\n",
      "4500 [37.66666667  4.01145689  2.67324854  3.68757438] 385.4632788292066\n",
      "5000 [37.66666667  4.01145689  2.67324854  3.68757438] 385.4632788292066\n",
      "W= [37.66666667  4.01145689  2.67324854  3.68757438]\n",
      "*************************\n",
      "500 [53.80821107  5.55425006  1.53274869  5.12255487] 32.85607708560639\n",
      "1000 [53.80952378  5.70466966  1.09946397  5.42237988] 32.59016846471511\n",
      "1500 [53.80952381  5.72532537  1.00880545  5.49542065] 32.54458841197802\n",
      "2000 [53.80952381  5.7294535   0.98915646  5.51158348] 32.53510515825502\n",
      "2500 [53.80952381  5.73034197  0.98487589  5.51511492] 32.53305784034792\n",
      "3000 [53.80952381  5.73053533  0.98394268  5.51588514] 32.53261237960693\n",
      "3500 [53.80952381  5.73057748  0.9837392   5.51605308] 32.532515295528626\n",
      "4000 [53.80952381  5.73058667  0.98369484  5.5160897 ] 32.53249412956087\n",
      "4500 [53.80952381  5.73058868  0.98368517  5.51609768] 32.532489514678176\n",
      "5000 [53.80952381  5.73058911  0.98368306  5.51609942] 32.53248850846462\n",
      "W= [53.80952381  5.73058911  0.98368306  5.51609942]\n",
      "*************************\n",
      "500 [56.21673324  5.8620134   1.0973114   5.48152978] 25.34927695273097\n",
      "1000 [56.21890539  6.13817008  0.25676075  6.07808629] 25.050567809213142\n",
      "1500 [ 5.62189055e+01  6.20065670e+00 -2.09333286e-02  6.30256226e+00] 25.004260655449038\n",
      "2000 [56.21890547  6.2204893  -0.11551226  6.3803969 ] 24.994635922546014\n",
      "2500 [56.21890547  6.22720312 -0.14786762  6.4070916 ] 24.992067956776946\n",
      "3000 [56.21890547  6.22949791 -0.15894336  6.4162329 ] 24.99127390893935\n",
      "3500 [56.21890547  6.23028335 -0.16273509  6.41936254] 24.99101203395977\n",
      "4000 [56.21890547  6.23055224 -0.16403319  6.42043399] 24.9909235488047\n",
      "4500 [56.21890547  6.23064429 -0.1644776   6.4208008 ] 24.99089339269804\n",
      "5000 [56.21890547  6.23067581 -0.16462974  6.42092637] 24.990883084763954\n",
      "W= [56.21890547  6.23067581 -0.16462974  6.42092637]\n",
      "*************************\n",
      "500 [56.46947948  5.89603517  1.04578828  5.52288952] 25.24126558336003\n",
      "1000 [56.47176402  6.18975799  0.14694504  6.16232813] 24.94987784123937\n",
      "1500 [56.47176412  6.25961451 -0.16386869  6.41365538] 24.911966052128896\n",
      "2000 [56.47176412  6.28283401 -0.27461922  6.50480257] 24.90660455598175\n",
      "2500 [56.47176412  6.29105831 -0.31425494  6.53750411] 24.905737174207687\n",
      "3000 [56.47176412  6.29399911 -0.32844872  6.54921888] 24.905561548161156\n",
      "3500 [56.47176412  6.29505211 -0.33353204  6.55341458] 24.905515966701408\n",
      "4000 [56.47176412  6.29542922 -0.33535259  6.55491725] 24.90550186327176\n",
      "4500 [56.47176412  6.29556427 -0.33600461  6.55545542] 24.905497097139076\n",
      "5000 [56.47176412  6.29561264 -0.33623812  6.55564816] 24.905495426727477\n",
      "W= [56.47176412  6.29561264 -0.33623812  6.55564816]\n",
      "*************************\n",
      "500 [56.49487895  5.89947315  1.04054601  5.5270874 ] 25.23755832331096\n",
      "1000 [56.49717505  6.19501568  0.13564839  6.17098435] 24.947089650389493\n",
      "1500 [56.49717514  6.26565597 -0.17868956  6.42516923] 24.910200887020064\n",
      "2000 [56.49717514  6.28924463 -0.29120292  6.51776763] 24.905377672807827\n",
      "2500 [56.49717514  6.29763759 -0.33165155  6.55113988] 24.904735047224676\n",
      "3000 [56.49717514  6.30065228 -0.3462019   6.56314895] 24.904645262343745\n",
      "3500 [56.49717514  6.3017366  -0.35143648  6.56746949] 24.904631263168568\n",
      "4000 [56.49717514  6.30212668 -0.35331967  6.56902387] 24.904628595590758\n",
      "4500 [56.49717514  6.30226702 -0.35399717  6.56958307] 24.904627942486606\n",
      "5000 [56.49717514  6.30231751 -0.35424091  6.56978425] 24.904627747206018\n",
      "W= [56.49717514  6.30231751 -0.35424091  6.56978425]\n",
      "*************************\n",
      "500 [56.49742015  5.89981731  1.04002088  5.52750782] 25.23725925553023\n",
      "1000 [56.49971741  6.19554246  0.1345155   6.17185235] 24.946884474315066\n",
      "1500 [56.4997175   6.26626162 -0.18017709  6.42632479] 24.910100012607888\n",
      "2000 [56.4997175   6.28988752 -0.29286827  6.51906958] 24.90533187773378\n",
      "2500 [56.4997175   6.29829753 -0.33339911  6.55250966] 24.90471235452016\n",
      "3000 [56.4997175   6.3013197  -0.34798561  6.56454856] 24.904631435564106\n",
      "3500 [56.4997175   6.30240721 -0.35323555  6.56888179] 24.90462071433124\n",
      "4000 [56.4997175   6.30279862 -0.35512513  6.57044143] 24.90461923957473\n",
      "4500 [56.4997175   6.30293949 -0.35580523  6.57100279] 24.90461901761903\n",
      "5000 [56.4997175   6.3029902  -0.35605002  6.57120483] 24.9046189777411\n",
      "W= [56.4997175   6.3029902  -0.35605002  6.57120483]\n",
      "*************************\n",
      "500 [56.49767428  5.89985173  1.03996835  5.52754986] 25.23723006605946\n",
      "1000 [56.49997166  6.19559515  0.13440218  6.17193917] 24.94686469398284\n",
      "1500 [56.49997175  6.26632219 -0.18032589  6.42644039] 24.91009068260664\n",
      "2000 [56.49997175  6.28995182 -0.29303488  6.51919983] 24.90532806831963\n",
      "2500 [56.49997175  6.29836354 -0.33357394  6.5526467 ] 24.904710861698007\n",
      "3000 [56.49997175  6.30138647 -0.34816406  6.56468858] 24.904630832199164\n",
      "3500 [56.49997175  6.30247429 -0.35341555  6.56902309] 24.904620439980555\n",
      "4000 [56.49997175  6.30286583 -0.35530576  6.57058326] 24.904619085009166\n",
      "4500 [56.49997175  6.30300676 -0.35598613  6.57114483] 24.904618906371546\n",
      "5000 [56.49997175  6.30305749 -0.35623102  6.57134696] 24.90461888211491\n",
      "W= [56.49997175  6.30305749 -0.35623102  6.57134696]\n",
      "*************************\n",
      "500 [56.4976997   5.89985517  1.0399631   5.52755407] 25.23722715428617\n",
      "1000 [56.49999708  6.19560042  0.13439084  6.17194785] 24.94686272332321\n",
      "1500 [56.49999717  6.26632825 -0.18034077  6.42645195] 24.91008975718195\n",
      "2000 [56.49999717  6.28995825 -0.29305154  6.51921285] 24.905327695080324\n",
      "2500 [56.49999717  6.29837014 -0.33359143  6.55266041] 24.904710720181527\n",
      "3000 [56.49999717  6.30139314 -0.34818191  6.56470259] 24.90463077965709\n",
      "3500 [56.49999717  6.302481   -0.35343355  6.56903722] 24.904620420352114\n",
      "4000 [56.49999717  6.30287255 -0.35532383  6.57059744] 24.9046190773643\n",
      "4500 [56.49999717  6.30301349 -0.35600422  6.57115903] 24.90461890306053\n",
      "5000 [56.49999717  6.30306422 -0.35624912  6.57136117] 24.90461888036681\n",
      "W= [56.49999717  6.30306422 -0.35624912  6.57136117]\n",
      "*************************\n",
      "500 [56.49770224  5.89985551  1.03996258  5.52755449] 25.237226863180595\n",
      "1000 [56.49999962  6.19560095  0.13438971  6.17194872] 24.946862526330975\n",
      "1500 [56.49999972  6.26632886 -0.18034226  6.4264531 ] 24.910089664715237\n",
      "2000 [56.49999972  6.2899589  -0.2930532   6.51921415] 24.90532765783341\n",
      "2500 [56.49999972  6.2983708  -0.33359317  6.55266178] 24.904710706107537\n",
      "3000 [56.49999972  6.30139381 -0.34818369  6.56470399] 24.90463077448081\n",
      "3500 [56.49999972  6.30248167 -0.35343535  6.56903863] 24.904620418467363\n",
      "4000 [56.49999972  6.30287322 -0.35532563  6.57059886] 24.90461907667794\n",
      "4500 [56.49999972  6.30301416 -0.35600602  6.57116045] 24.904618902807584\n",
      "5000 [56.49999972  6.30306489 -0.35625093  6.57136259] 24.904618880270178\n",
      "W= [56.49999972  6.30306489 -0.35625093  6.57136259]\n",
      "*************************\n",
      "500 [56.49770249  5.89985555  1.03996252  5.52755453] 25.237226834070754\n",
      "1000 [56.49999988  6.195601    0.1343896   6.17194881] 24.946862506632492\n",
      "1500 [56.49999997  6.26632892 -0.18034241  6.42645322] 24.91008965546932\n",
      "2000 [56.49999997  6.28995896 -0.29305337  6.51921428] 24.905327654109495\n",
      "2500 [56.49999997  6.29837087 -0.33359335  6.55266191] 24.904710704700925\n",
      "3000 [56.49999997  6.30139388 -0.34818387  6.56470413] 24.904630773963973\n",
      "3500 [56.49999997  6.30248174 -0.35343553  6.56903878] 24.904620418279656\n",
      "4000 [56.49999997  6.30287329 -0.35532581  6.570599  ] 24.9046190766101\n",
      "4500 [56.49999997  6.30301423 -0.35600621  6.57116059] 24.90461890278307\n",
      "5000 [56.49999997  6.30306496 -0.35625111  6.57136273] 24.904618880261275\n",
      "W= [56.49999997  6.30306496 -0.35625111  6.57136273]\n"
     ]
    }
   ],
   "source": [
    "Nl=10\n",
    "start_lambda = 1\n",
    "res = np.zeros((5,Nl))\n",
    "for i in range(0,Nl):\n",
    "    print('*'*25)\n",
    "    lambda_ = start_lambda/10**i\n",
    "    t = eval_model_reg2(X_st, y, iterations=5000, alpha=1e-2, lambda_=lambda_, flpr=True)\n",
    "    print('W=', t)\n",
    "    res[4][i] = lambda_\n",
    "    res[0][i]=t[0]\n",
    "    res[1][i]=t[1]\n",
    "    res[2][i]=t[2]\n",
    "    res[3][i]=t[3]"
   ]
  },
  {
   "cell_type": "code",
   "execution_count": 260,
   "metadata": {},
   "outputs": [
    {
     "data": {
      "image/png": "[encoded data removed]",
      "text/plain": [
       "<Figure size 432x288 with 1 Axes>"
      ]
     },
     "metadata": {
      "needs_background": "light"
     },
     "output_type": "display_data"
    }
   ],
   "source": [
    "import matplotlib.pyplot as plt\n",
    "\n",
    "plt.plot(res[:][4], res[:][0])\n",
    "plt.plot(res[:][4], res[:][1], c='red')\n",
    "plt.xlabel('lambda')\n",
    "plt.ylabel('W0, W1')\n",
    "plt.grid(True)\n",
    "plt.show()"
   ]
  },
  {
   "cell_type": "code",
   "execution_count": 261,
   "metadata": {},
   "outputs": [
    {
     "data": {
      "image/png": "[encoded data removed]",
      "text/plain": [
       "<Figure size 432x288 with 1 Axes>"
      ]
     },
     "metadata": {
      "needs_background": "light"
     },
     "output_type": "display_data"
    }
   ],
   "source": [
    "import matplotlib.pyplot as plt\n",
    "\n",
    "plt.plot(res[:][4], res[:][2])\n",
    "plt.plot(res[:][4], res[:][3], c='red')\n",
    "plt.xlabel('lambda')\n",
    "plt.ylabel('W0, W1')\n",
    "plt.grid(True)\n",
    "plt.show()"
   ]
  },
  {
   "cell_type": "code",
   "execution_count": 262,
   "metadata": {},
   "outputs": [],
   "source": [
    "from sklearn.linear_model import LinearRegression"
   ]
  },
  {
   "cell_type": "code",
   "execution_count": 263,
   "metadata": {},
   "outputs": [],
   "source": [
    "res = np.zeros((10,4))\n",
    "for i in range(X_st.shape[1]):\n",
    "    res[i][0]=X_st[0][i]\n",
    "    res[i][1]=X_st[1][i]\n",
    "    res[i][2]=X_st[2][i]\n",
    "    res[i][3]=X_st[3][i]"
   ]
  },
  {
   "cell_type": "code",
   "execution_count": 264,
   "metadata": {},
   "outputs": [
    {
     "data": {
      "text/plain": [
       "0.8445889617665624"
      ]
     },
     "execution_count": 264,
     "metadata": {},
     "output_type": "execute_result"
    }
   ],
   "source": [
    "reg = LinearRegression().fit(res, y)\n",
    "reg.score(res, y)"
   ]
  },
  {
   "cell_type": "code",
   "execution_count": 265,
   "metadata": {},
   "outputs": [
    {
     "data": {
      "text/plain": [
       "array([ 0.        ,  6.30309349, -0.35638885,  6.57147643])"
      ]
     },
     "execution_count": 265,
     "metadata": {},
     "output_type": "execute_result"
    }
   ],
   "source": [
    "reg.coef_"
   ]
  },
  {
   "cell_type": "code",
   "execution_count": 266,
   "metadata": {},
   "outputs": [
    {
     "data": {
      "text/plain": [
       "56.5"
      ]
     },
     "execution_count": 266,
     "metadata": {},
     "output_type": "execute_result"
    }
   ],
   "source": [
    "reg.intercept_"
   ]
  },
  {
   "cell_type": "code",
   "execution_count": 267,
   "metadata": {},
   "outputs": [
    {
     "data": {
      "text/plain": [
       "Ridge(alpha=1.0, copy_X=True, fit_intercept=True, max_iter=None,\n",
       "      normalize=False, random_state=None, solver='auto', tol=0.001)"
      ]
     },
     "execution_count": 267,
     "metadata": {},
     "output_type": "execute_result"
    }
   ],
   "source": [
    "from sklearn.linear_model import Ridge\n",
    "clf = Ridge(alpha=1)\n",
    "clf.fit(res, y)\n",
    "Ridge()"
   ]
  },
  {
   "cell_type": "code",
   "execution_count": 268,
   "metadata": {},
   "outputs": [],
   "source": [
    "c= clf.predict(res)"
   ]
  },
  {
   "cell_type": "code",
   "execution_count": 269,
   "metadata": {},
   "outputs": [
    {
     "data": {
      "text/plain": [
       "25.877207055286988"
      ]
     },
     "execution_count": 269,
     "metadata": {},
     "output_type": "execute_result"
    }
   ],
   "source": [
    "calc_mse(y, c)"
   ]
  },
  {
   "cell_type": "code",
   "execution_count": null,
   "metadata": {},
   "outputs": [],
   "source": []
  },
  {
   "cell_type": "code",
   "execution_count": null,
   "metadata": {},
   "outputs": [],
   "source": []
  },
  {
   "cell_type": "code",
   "execution_count": null,
   "metadata": {},
   "outputs": [],
   "source": []
  }
 ],
 "metadata": {
  "colab": {
   "collapsed_sections": [],
   "name": "Lesson2.ipynb",
   "provenance": []
  },
  "kernelspec": {
   "display_name": "Python 3",
   "language": "python",
   "name": "python3"
  },
  "language_info": {
   "codemirror_mode": {
    "name": "ipython",
    "version": 3
   },
   "file_extension": ".py",
   "mimetype": "text/x-python",
   "name": "python",
   "nbconvert_exporter": "python",
   "pygments_lexer": "ipython3",
   "version": "3.7.4"
  }
 },
 "nbformat": 4,
 "nbformat_minor": 1
}
