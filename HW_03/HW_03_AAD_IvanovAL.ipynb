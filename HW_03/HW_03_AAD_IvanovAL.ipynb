{
 "cells": [
  {
   "cell_type": "code",
   "execution_count": 1,
   "metadata": {
    "colab": {},
    "colab_type": "code",
    "id": "zhwkeWtb1O0w"
   },
   "outputs": [],
   "source": [
    "import numpy as np\n",
    "import matplotlib.pyplot as plt"
   ]
  },
  {
   "cell_type": "code",
   "execution_count": 2,
   "metadata": {
    "colab": {},
    "colab_type": "code",
    "id": "FeKFn2yb1To4"
   },
   "outputs": [],
   "source": [
    "X = np.array([[1, 1, 1, 1, 1, 1, 1, 1, 1, 1],\n",
    "              [1, 1, 2, 1, 3, 0, 5, 10, 1, 2],\n",
    "              [500, 700, 750, 600, 1450,\n",
    "               800, 1500, 2000, 450, 1000],\n",
    "              [1, 1, 2, 1, 2, \n",
    "               1, 3, 3, 1, 2]], dtype = np.float64)\n",
    "y = np.array([0, 0, 1, 0, 1, 0, 1, 0, 1, 1], dtype = np.float64)"
   ]
  },
  {
   "cell_type": "code",
   "execution_count": 3,
   "metadata": {
    "colab": {
     "base_uri": "https://localhost:8080/",
     "height": 155
    },
    "colab_type": "code",
    "id": "yXSj4nbxHsFd",
    "outputId": "8d102d54-94bf-4acc-d5b8-d60da152b953"
   },
   "outputs": [
    {
     "data": {
      "text/plain": [
       "array([[1.00e+00, 1.00e+00, 1.00e+00, 1.00e+00, 1.00e+00, 1.00e+00,\n",
       "        1.00e+00, 1.00e+00, 1.00e+00, 1.00e+00],\n",
       "       [1.00e+00, 1.00e+00, 2.00e+00, 1.00e+00, 3.00e+00, 0.00e+00,\n",
       "        5.00e+00, 1.00e+01, 1.00e+00, 2.00e+00],\n",
       "       [5.00e+02, 7.00e+02, 7.50e+02, 6.00e+02, 1.45e+03, 8.00e+02,\n",
       "        1.50e+03, 2.00e+03, 4.50e+02, 1.00e+03],\n",
       "       [1.00e+00, 1.00e+00, 2.00e+00, 1.00e+00, 2.00e+00, 1.00e+00,\n",
       "        3.00e+00, 3.00e+00, 1.00e+00, 2.00e+00]])"
      ]
     },
     "execution_count": 3,
     "metadata": {},
     "output_type": "execute_result"
    }
   ],
   "source": [
    "X"
   ]
  },
  {
   "cell_type": "code",
   "execution_count": 4,
   "metadata": {
    "colab": {
     "base_uri": "https://localhost:8080/",
     "height": 34
    },
    "colab_type": "code",
    "id": "QU0A16vZHugZ",
    "outputId": "71d74b95-77f4-41a7-e339-c9e7b2004e4b"
   },
   "outputs": [
    {
     "data": {
      "text/plain": [
       "array([0., 0., 1., 0., 1., 0., 1., 0., 1., 1.])"
      ]
     },
     "execution_count": 4,
     "metadata": {},
     "output_type": "execute_result"
    }
   ],
   "source": [
    "y"
   ]
  },
  {
   "cell_type": "code",
   "execution_count": 5,
   "metadata": {
    "colab": {},
    "colab_type": "code",
    "id": "M-aO1NTxOUfo"
   },
   "outputs": [],
   "source": [
    "def calc_std_feat(x):\n",
    "    res = (x - x.mean()) / x.std()\n",
    "    return res"
   ]
  },
  {
   "cell_type": "code",
   "execution_count": 6,
   "metadata": {
    "colab": {},
    "colab_type": "code",
    "id": "D8EL0iGJOVpe"
   },
   "outputs": [],
   "source": [
    "X_st = X.copy()\n",
    "X_st[2, :] = calc_std_feat(X[2, :])"
   ]
  },
  {
   "cell_type": "code",
   "execution_count": 7,
   "metadata": {
    "colab": {
     "base_uri": "https://localhost:8080/",
     "height": 155
    },
    "colab_type": "code",
    "id": "gviMxz7EOuI3",
    "outputId": "af9a2576-f4d7-41d7-e216-46e0a068cfad"
   },
   "outputs": [
    {
     "data": {
      "text/plain": [
       "array([[ 1.        ,  1.        ,  1.        ,  1.        ,  1.        ,\n",
       "         1.        ,  1.        ,  1.        ,  1.        ,  1.        ],\n",
       "       [ 1.        ,  1.        ,  2.        ,  1.        ,  3.        ,\n",
       "         0.        ,  5.        , 10.        ,  1.        ,  2.        ],\n",
       "       [-0.97958969, -0.56713087, -0.46401617, -0.77336028,  0.97958969,\n",
       "        -0.36090146,  1.08270439,  2.11385144, -1.08270439,  0.05155735],\n",
       "       [ 1.        ,  1.        ,  2.        ,  1.        ,  2.        ,\n",
       "         1.        ,  3.        ,  3.        ,  1.        ,  2.        ]])"
      ]
     },
     "execution_count": 7,
     "metadata": {},
     "output_type": "execute_result"
    }
   ],
   "source": [
    "X_st"
   ]
  },
  {
   "cell_type": "markdown",
   "metadata": {},
   "source": [
    "## 1*. Измените  функцию calc_logloss так, чтобы нули по возможности не попадали в np.log.  "
   ]
  },
  {
   "cell_type": "markdown",
   "metadata": {},
   "source": [
    "### Добавим малую величину к вектору y_pred + 1e-299"
   ]
  },
  {
   "cell_type": "code",
   "execution_count": 8,
   "metadata": {
    "colab": {},
    "colab_type": "code",
    "id": "qMR5pOA38dDw"
   },
   "outputs": [],
   "source": [
    "def calc_logloss(y, y_pred):\n",
    "    y_pred =y_pred + 1e-299\n",
    "    err = - np.mean(y * np.log(y_pred) + (1.0 - y) * np.log(1.0 - y_pred))\n",
    "    return err"
   ]
  },
  {
   "cell_type": "code",
   "execution_count": 9,
   "metadata": {
    "colab": {
     "base_uri": "https://localhost:8080/",
     "height": 34
    },
    "colab_type": "code",
    "id": "R6zfOHMrBvnX",
    "outputId": "c26e639b-b7a5-414c-a920-928da0513938"
   },
   "outputs": [
    {
     "data": {
      "text/plain": [
       "4.996003610813207e-16"
      ]
     },
     "execution_count": 9,
     "metadata": {},
     "output_type": "execute_result"
    }
   ],
   "source": [
    "# Пример применения\n",
    "y1 = np.array([1, 0])\n",
    "y_pred1 = np.array([0.999999999999999,0])\n",
    "calc_logloss(y1, y_pred1)"
   ]
  },
  {
   "cell_type": "code",
   "execution_count": 10,
   "metadata": {
    "colab": {},
    "colab_type": "code",
    "id": "EEF9rWPNDnss"
   },
   "outputs": [],
   "source": [
    "def sigmoid(z):\n",
    "  res = 1 / (1 + np.exp(-z))\n",
    "  return res"
   ]
  },
  {
   "cell_type": "code",
   "execution_count": 11,
   "metadata": {
    "colab": {},
    "colab_type": "code",
    "id": "qtgUN3LW-UIq"
   },
   "outputs": [],
   "source": [
    "def eval_model(X, y, iterations, alpha=1e-4):\n",
    "    err_old = 1\n",
    "    np.random.seed(42)\n",
    "    W = np.random.randn(X.shape[0])\n",
    "    n = X.shape[1]\n",
    "    for i in range(1, iterations + 1):\n",
    "        z = np.dot(W, X)\n",
    "        y_pred = sigmoid(z)\n",
    "        err = calc_logloss(y, y_pred)\n",
    "        W -= alpha * (1/n * np.dot((y_pred - y), X.T))\n",
    "        if i % (iterations / 10) == 0:\n",
    "            print(i, W, err, alpha)\n",
    "        if abs(err_old - err)< 1e-8:\n",
    "            print('err_old - err < 1e-8 ',i, W, err, alpha)\n",
    "            break\n",
    "        err_old = err\n",
    "    return W, err, i"
   ]
  },
  {
   "cell_type": "code",
   "execution_count": 12,
   "metadata": {
    "colab": {
     "base_uri": "https://localhost:8080/",
     "height": 190
    },
    "colab_type": "code",
    "id": "oqX7loklBmYZ",
    "outputId": "f4849295-1f14-40d8-c8f2-d1b002e130c5"
   },
   "outputs": [
    {
     "name": "stdout",
     "output_type": "stream",
     "text": [
      "10000 [ 0.25808924 -0.68189547  0.68834749  1.2411954 ] 0.5906743816929662 0.0001\n",
      "20000 [ 0.14828711 -0.69312078  0.77938652  1.21304006] 0.5686161184060843 0.0001\n",
      "30000 [ 0.06280025 -0.6861144   0.85151403  1.21295529] 0.5559834472247203 0.0001\n",
      "40000 [-0.00866482 -0.68420916  0.90683954  1.22454952] 0.5476380224356814 0.0001\n",
      "50000 [-0.06996594 -0.6866606   0.94956256  1.24413705] 0.541644374202672 0.0001\n",
      "60000 [-0.12382407 -0.69204981  0.98292962  1.26931272] 0.5369564319716832 0.0001\n",
      "70000 [-0.17224326 -0.69935523  1.00931153  1.29828743] 0.5330172710285223 0.0001\n",
      "80000 [-0.21668343 -0.70786696  1.03042468  1.32975123] 0.5295310331283415 0.0001\n",
      "90000 [-0.25820024 -0.71709221  1.04751085  1.36276018] 0.5263390430000645 0.0001\n",
      "100000 [-0.29755454 -0.72668938  1.06147096  1.3966418 ] 0.5233543557317325 0.0001\n"
     ]
    }
   ],
   "source": [
    "W, err, i = eval_model(X_st, y, iterations=100000, alpha=1e-4)"
   ]
  },
  {
   "cell_type": "markdown",
   "metadata": {},
   "source": [
    "## 2. Подберите аргументы функции eval_model для логистической регрессии таким образом, чтобы log loss был минимальным."
   ]
  },
  {
   "cell_type": "code",
   "execution_count": 13,
   "metadata": {},
   "outputs": [
    {
     "name": "stdout",
     "output_type": "stream",
     "text": [
      "alpha = 0.01 ####################################################################################################\n",
      "100000 [-11.27192801  -1.45338517  -2.38300258   9.49385018] 0.25238285377547093 0.01\n",
      "200000 [-16.2422902   -1.86937288  -3.90462901  13.50867797] 0.2087444482151381 0.01\n",
      "300000 [-20.12046178  -2.20554145  -5.06338174  16.65513544] 0.18225133394128204 0.01\n",
      "400000 [-23.32957684  -2.48701096  -6.00950463  19.2580126 ] 0.16415892687401012 0.01\n",
      "500000 [-26.06999299  -2.72865738  -6.81029352  21.47844134] 0.1509957371068139 0.01\n",
      "600000 [-28.46471856  -2.94024139  -7.50574487  23.41628013] 0.14096415738168322 0.01\n",
      "700000 [-30.59526535  -3.12845003  -8.12178098  25.13788906] 0.13303809324891197 0.01\n",
      "800000 [-32.51817754  -3.29802355  -8.67608723  26.68935959] 0.12659237581823718 0.01\n",
      "900000 [-34.27409432  -3.4524232   -9.18120823  28.10384248] 0.12122604278612226 0.01\n",
      "1000000 [-35.89309329  -3.59424249  -9.64632889  29.40588541] 0.1166708320375139 0.01\n",
      "alpha = 0.001 ####################################################################################################\n",
      "100000 [-2.77073816 -0.9958014   0.56651721  3.26761217] 0.40582576219273137 0.001\n",
      "200000 [-4.5902344  -1.03597991 -0.13798412  4.44453591] 0.35332021016068815 0.001\n",
      "300000 [-5.90935598 -1.08770924 -0.62102637  5.36106613] 0.3250047511493259 0.001\n",
      "400000 [-6.96067626 -1.14367777 -0.98671703  6.13008459] 0.30661945384780204 0.001\n",
      "500000 [-7.85435403 -1.19931706 -1.28727759  6.80516592] 0.29312159393861625 0.001\n",
      "600000 [-8.64671138 -1.25343618 -1.54766856  7.4163573 ] 0.2823914643332629 0.001\n",
      "700000 [-9.36908635 -1.3058213  -1.78112068  7.98147481] 0.2734025431093379 0.001\n",
      "800000 [-10.04018803  -1.35652736  -1.99528145   8.51163508] 0.2656010338617015 0.001\n",
      "900000 [-10.67184112  -1.40567324  -2.19487692   9.01410034] 0.25866224628101464 0.001\n",
      "1000000 [-11.27187924  -1.45338127  -2.38298732   9.49381115] 0.25238281282510405 0.001\n",
      "alpha = 0.0001 ####################################################################################################\n",
      "100000 [-0.29755454 -0.72668938  1.06147096  1.3966418 ] 0.5233543557317325 0.0001\n",
      "200000 [-0.64211126 -0.81527112  1.11590624  1.72609786] 0.49939584552736943 0.0001\n",
      "300000 [-0.95624035 -0.87644457  1.10163265  2.00543623] 0.48128705597746324 0.0001\n",
      "400000 [-1.25391568 -0.91698306  1.05402738  2.24372783] 0.4663375553020727 0.0001\n",
      "500000 [-1.53713614 -0.94409589  0.98697902  2.45296849] 0.4534056096039711 0.0001\n",
      "600000 [-1.80704951 -0.96245776  0.90880175  2.64114303] 0.4419293930636967 0.0001\n",
      "700000 [-2.0645845  -0.97510831  0.82479735  2.81357301] 0.4315990195451394 0.0001\n",
      "800000 [-2.31055602 -0.98405922  0.7384001   2.97389273] 0.4222220364203553 0.0001\n",
      "900000 [-2.54570769 -0.9906558   0.65183381  3.12463731] 0.4136647266234676 0.0001\n",
      "1000000 [-2.77073251 -0.99580062  0.56651816  3.2676075 ] 0.40582528440494947 0.0001\n",
      "alpha = 1e-05 ####################################################################################################\n",
      "100000 [ 0.25809285 -0.68188567  0.6883469   1.2412009 ] 0.5906726973128931 1e-05\n",
      "200000 [ 0.14828921 -0.69312022  0.77938409  1.2130416 ] 0.5686151049525676 1e-05\n",
      "300000 [ 0.06280227 -0.6861149   0.85151128  1.21295643] 0.5559828664575783 1e-05\n",
      "400000 [-0.00866287 -0.68420967  0.90683684  1.22455053] 0.5476376404807064 1e-05\n",
      "500000 [-0.06996416 -0.68666099  0.94956004  1.24413787] 0.5416440810387044 1e-05\n",
      "600000 [-0.12382249 -0.69205008  0.98292732  1.26931332] 0.5369561794528355 1e-05\n",
      "700000 [-0.1722419  -0.69935537  1.00930947  1.29828779] 0.5330170390757277 1e-05\n",
      "800000 [-0.21668227 -0.70786699  1.03042284  1.32975138] 0.5295308137308041 1e-05\n",
      "900000 [-0.25819926 -0.71709214  1.0475092   1.36276014] 0.5263388330572011 1e-05\n",
      "1000000 [-0.29755371 -0.72668924  1.06146948  1.39664159] 0.5233541540022562 1e-05\n",
      "alpha = 1e-06 ####################################################################################################\n",
      "100000 [ 0.45886991 -0.25439684  0.64531306  1.46696013] 1.039349738046658 1e-06\n",
      "200000 [ 0.42368989 -0.36359297  0.64254359  1.41507361] 0.8806280143419833 1e-06\n",
      "300000 [ 0.39201459 -0.45898733  0.6408065   1.36975472] 0.7586777708844649 1e-06\n",
      "400000 [ 0.36456342 -0.53305033  0.64184197  1.33338466] 0.6824990806647361 1e-06\n",
      "500000 [ 0.34114214 -0.58524057  0.64605074  1.30593513] 0.6416688448823376 1e-06\n",
      "600000 [ 0.32089101 -0.62085016  0.65260987  1.28544878] 0.620067526482629 1e-06\n",
      "700000 [ 0.30297692 -0.64524084  0.66062002  1.26994094] 0.6077750737192739 1e-06\n",
      "800000 [ 0.28679607 -0.66210365  0.6694724   1.25798758] 0.6000594638475293 1e-06\n",
      "900000 [ 0.27193202 -0.67380472  0.67879218  1.24862728] 0.5947155834844974 1e-06\n",
      "1000000 [ 0.25809321 -0.68188469  0.68834684  1.24120145] 0.590672528874399 1e-06\n",
      "alpha = 1e-07 ####################################################################################################\n",
      "100000 [ 0.49282758 -0.1500751   0.64748968  1.5172793 ] 1.201294897452372 1e-07\n",
      "200000 [ 0.4889624  -0.16184881  0.64728119  1.51155767] 1.1826608453059118 1e-07\n",
      "300000 [ 0.48511906 -0.17358329  0.64706335  1.50586596] 1.1641695850954783 1e-07\n",
      "400000 [ 0.48129803 -0.1852762   0.6468365   1.50020521] 1.1458275613715674 1e-07\n",
      "500000 [ 0.47749981 -0.19692497  0.64660105  1.49457655] 1.1276417866321267 1e-07\n",
      "600000 [ 0.47372492 -0.20852675  0.64635744  1.4889812 ] 1.109619891823917 1e-07\n",
      "700000 [ 0.46997389 -0.22007843  0.6461062   1.48342043] 1.0917701776898547 1e-07\n",
      "800000 [ 0.46624731 -0.23157658  0.64584792  1.47789565] 1.0741016657452125 1e-07\n",
      "900000 [ 0.46254578 -0.24301742  0.64558329  1.47240835] 1.0566241472770017 1e-07\n",
      "1000000 [ 0.45886992 -0.25439682  0.64531306  1.46696015] 1.0393482283111597 1e-07\n",
      "____________________________________________________________________________________________________\n",
      "iterations =  1000000  alpha = 0.01\n",
      "Wbest=  [-35.89309329  -3.59424249  -9.64632889  29.40588541]\n"
     ]
    }
   ],
   "source": [
    "res=[]\n",
    "e=[]\n",
    "for a in range(2,8):\n",
    "    alpha = 1/10**a\n",
    "    print('alpha =', alpha,'#'*100 )\n",
    "    W, err, i = eval_model(X_st, y, iterations=1000000, alpha=alpha)\n",
    "    res.append((W,err, i, alpha))\n",
    "    e.append(err)\n",
    "print('__'*50)\n",
    "print(f'iterations =  {res[e.index(min(e))][2]}  alpha = {res[e.index(min(e))][3]}')\n",
    "Wbest = res[e.index(min(e))][0]\n",
    "print('Wbest= ',Wbest)"
   ]
  },
  {
   "cell_type": "markdown",
   "metadata": {},
   "source": [
    "## 3. Создайте функцию calc_pred_proba, возвращающую предсказанную вероятность класса 1 (на вход подаются W, который уже посчитан функцией eval_model и X, на выходе - массив y_pred_proba)."
   ]
  },
  {
   "cell_type": "code",
   "execution_count": 14,
   "metadata": {},
   "outputs": [],
   "source": [
    "#Wbest = np.array([-35.89309329,  -3.59424249,  -9.64632889,  29.40588541])\n",
    "def calc_pred_proba (X, W):\n",
    "    z = np.dot(W, X)\n",
    "    y_pred_proba = sigmoid(z)\n",
    "    return y_pred_proba"
   ]
  },
  {
   "cell_type": "code",
   "execution_count": 20,
   "metadata": {},
   "outputs": [
    {
     "name": "stdout",
     "output_type": "stream",
     "text": [
      "[0.34705581 0.00984674 1.         0.06777614 0.93622567 0.04716302\n",
      " 1.         0.01783199 0.58968717 0.99999976]\n"
     ]
    }
   ],
   "source": [
    "y_pred_proba= calc_pred_proba(X_st, Wbest)\n",
    "print(y_pred_proba)"
   ]
  },
  {
   "cell_type": "markdown",
   "metadata": {},
   "source": [
    "## 4. Создайте функцию calc_pred, возвращающую предсказанный класс (на вход подаются W, который уже посчитан функцией eval_model и X, на выходе - массив y_pred)."
   ]
  },
  {
   "cell_type": "code",
   "execution_count": 16,
   "metadata": {},
   "outputs": [],
   "source": [
    "def calc_pred (X, W):\n",
    "    y_pred_proba=calc_pred_proba(X,W)\n",
    "    y_pred = np.round(y_pred_proba,0)\n",
    "    print('y_pred =', y_pred)\n",
    "    print('y      =', y)\n",
    "    return y_pred"
   ]
  },
  {
   "cell_type": "code",
   "execution_count": 17,
   "metadata": {},
   "outputs": [
    {
     "name": "stdout",
     "output_type": "stream",
     "text": [
      "y_pred = [0. 0. 1. 0. 1. 0. 1. 0. 1. 1.]\n",
      "y      = [0. 0. 1. 0. 1. 0. 1. 0. 1. 1.]\n"
     ]
    }
   ],
   "source": [
    "y_pred=calc_pred(X_st, Wbest)"
   ]
  },
  {
   "cell_type": "markdown",
   "metadata": {},
   "source": [
    "## 5. Посчитайте Accuracy, матрицу ошибок, точность и полноту, а также F1 score."
   ]
  },
  {
   "cell_type": "code",
   "execution_count": 34,
   "metadata": {},
   "outputs": [
    {
     "name": "stdout",
     "output_type": "stream",
     "text": [
      "Итоговый вектор весов w: [-35.89309329  -3.59424249  -9.64632889  29.40588541]\n",
      "Точность на обучающей выборке: 90.362\n",
      "Точность на обучающей выборке: 100.000\n"
     ]
    }
   ],
   "source": [
    "# В качестве меры точности возьмем долю правильных ответов\n",
    "_accuracy = 100.0 - np.mean(np.abs(y_pred_proba - y)*100.0)\n",
    "_accuracy2 = 100.0 - np.mean(np.abs(y_pred - y)*100.0)\n",
    "\n",
    "print(f\"Итоговый вектор весов w: {Wbest}\")\n",
    "print(f\"Точность на обучающей выборке: {_accuracy:.3f}\")\n",
    "print(f\"Точность на обучающей выборке: {_accuracy2:.3f}\")\n"
   ]
  },
  {
   "cell_type": "code",
   "execution_count": 35,
   "metadata": {},
   "outputs": [],
   "source": [
    "def EM(y, y_pred):\n",
    "    em = {'TP':0,'FN':0,'FP':0,'TN':0 }\n",
    "    for i in range(0, len(y)):\n",
    "        if y[i] == 1 and y_pred[i]==1:\n",
    "            em['TP']=  em['TP']+1\n",
    "        elif y[i] == 1 and y_pred[i]==0:\n",
    "            em['FN']=  em['FN']+1\n",
    "        elif y[i] == 0 and y_pred[i]==1:\n",
    "            em['FP']=  em['FP']+1\n",
    "        elif y[i] == 0 and y_pred[i]==0:\n",
    "            em['TN']=  em['TN']+1\n",
    "    return em"
   ]
  },
  {
   "cell_type": "code",
   "execution_count": 36,
   "metadata": {},
   "outputs": [
    {
     "name": "stdout",
     "output_type": "stream",
     "text": [
      "{'TP': 5, 'FN': 0, 'FP': 0, 'TN': 5}\n"
     ]
    }
   ],
   "source": [
    "em = EM(y, y_pred)\n",
    "print(em)"
   ]
  },
  {
   "cell_type": "code",
   "execution_count": 37,
   "metadata": {},
   "outputs": [
    {
     "name": "stdout",
     "output_type": "stream",
     "text": [
      "1.0\n"
     ]
    }
   ],
   "source": [
    "precision = em['TP']/(em['TP'] + em['FP'])\n",
    "print(precision)"
   ]
  },
  {
   "cell_type": "code",
   "execution_count": 38,
   "metadata": {},
   "outputs": [
    {
     "name": "stdout",
     "output_type": "stream",
     "text": [
      "1.0\n"
     ]
    }
   ],
   "source": [
    "recall = em['TP']/(em['TP']+em['FN'])\n",
    "print(recall)"
   ]
  },
  {
   "cell_type": "code",
   "execution_count": 39,
   "metadata": {},
   "outputs": [
    {
     "name": "stdout",
     "output_type": "stream",
     "text": [
      "1.0\n"
     ]
    }
   ],
   "source": [
    "F1 = 2*precision*recall/(recall+precision)\n",
    "print(F1)"
   ]
  },
  {
   "cell_type": "markdown",
   "metadata": {
    "colab": {},
    "colab_type": "code",
    "id": "Mbwxo9NqbLJy"
   },
   "source": [
    "## 6. Могла ли модель переобучиться? Почему?"
   ]
  },
  {
   "cell_type": "markdown",
   "metadata": {},
   "source": [
    "Недостаточно данных"
   ]
  },
  {
   "cell_type": "markdown",
   "metadata": {},
   "source": [
    "## Дополнительно"
   ]
  },
  {
   "cell_type": "code",
   "execution_count": 40,
   "metadata": {
    "colab": {},
    "colab_type": "code",
    "id": "jp0AQlnkRBWC"
   },
   "outputs": [],
   "source": [
    "from sklearn.linear_model import LogisticRegression"
   ]
  },
  {
   "cell_type": "code",
   "execution_count": 41,
   "metadata": {},
   "outputs": [
    {
     "data": {
      "text/plain": [
       "(10, 4)"
      ]
     },
     "execution_count": 41,
     "metadata": {},
     "output_type": "execute_result"
    }
   ],
   "source": [
    "Xx=X.transpose()\n",
    "Xx.shape"
   ]
  },
  {
   "cell_type": "code",
   "execution_count": 42,
   "metadata": {},
   "outputs": [
    {
     "data": {
      "text/plain": [
       "(10,)"
      ]
     },
     "execution_count": 42,
     "metadata": {},
     "output_type": "execute_result"
    }
   ],
   "source": [
    "y.shape"
   ]
  },
  {
   "cell_type": "code",
   "execution_count": 43,
   "metadata": {},
   "outputs": [
    {
     "name": "stderr",
     "output_type": "stream",
     "text": [
      "C:\\ProgramData\\Anaconda3\\lib\\site-packages\\sklearn\\linear_model\\logistic.py:432: FutureWarning: Default solver will be changed to 'lbfgs' in 0.22. Specify a solver to silence this warning.\n",
      "  FutureWarning)\n"
     ]
    }
   ],
   "source": [
    "clf = LogisticRegression(random_state=0).fit(Xx, y)"
   ]
  },
  {
   "cell_type": "code",
   "execution_count": 44,
   "metadata": {},
   "outputs": [
    {
     "data": {
      "text/plain": [
       "array([[0.51295612, 0.48704388],\n",
       "       [0.52135981, 0.47864019],\n",
       "       [0.37036988, 0.62963012],\n",
       "       [0.51715918, 0.48284082],\n",
       "       [0.4473712 , 0.5526288 ],\n",
       "       [0.47521519, 0.52478481],\n",
       "       [0.34844531, 0.65155469],\n",
       "       [0.61442591, 0.38557409],\n",
       "       [0.51085387, 0.48914613],\n",
       "       [0.38023253, 0.61976747]])"
      ]
     },
     "execution_count": 44,
     "metadata": {},
     "output_type": "execute_result"
    }
   ],
   "source": [
    "clf.predict_proba(Xx)"
   ]
  },
  {
   "cell_type": "code",
   "execution_count": 45,
   "metadata": {},
   "outputs": [
    {
     "data": {
      "text/plain": [
       "array([[-2.96116774e-01, -2.01539415e-01, -1.68275878e-04,\n",
       "         8.26074825e-01]])"
      ]
     },
     "execution_count": 45,
     "metadata": {},
     "output_type": "execute_result"
    }
   ],
   "source": [
    "clf.coef_"
   ]
  },
  {
   "cell_type": "code",
   "execution_count": 46,
   "metadata": {},
   "outputs": [
    {
     "data": {
      "text/plain": [
       "array([-0.29611677])"
      ]
     },
     "execution_count": 46,
     "metadata": {},
     "output_type": "execute_result"
    }
   ],
   "source": [
    "clf.intercept_"
   ]
  },
  {
   "cell_type": "code",
   "execution_count": 47,
   "metadata": {},
   "outputs": [
    {
     "data": {
      "text/plain": [
       "0.8"
      ]
     },
     "execution_count": 47,
     "metadata": {},
     "output_type": "execute_result"
    }
   ],
   "source": [
    "clf.score(Xx,y)"
   ]
  }
 ],
 "metadata": {
  "colab": {
   "collapsed_sections": [],
   "name": "Lesson3_.ipynb",
   "provenance": []
  },
  "kernelspec": {
   "display_name": "Python 3",
   "language": "python",
   "name": "python3"
  },
  "language_info": {
   "codemirror_mode": {
    "name": "ipython",
    "version": 3
   },
   "file_extension": ".py",
   "mimetype": "text/x-python",
   "name": "python",
   "nbconvert_exporter": "python",
   "pygments_lexer": "ipython3",
   "version": "3.7.4"
  }
 },
 "nbformat": 4,
 "nbformat_minor": 1
}
